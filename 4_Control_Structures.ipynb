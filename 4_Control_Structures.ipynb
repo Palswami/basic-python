{
  "nbformat": 4,
  "nbformat_minor": 0,
  "metadata": {
    "kernelspec": {
      "display_name": "Python 3",
      "language": "python",
      "name": "python3"
    },
    "language_info": {
      "codemirror_mode": {
        "name": "ipython",
        "version": 3
      },
      "file_extension": ".py",
      "mimetype": "text/x-python",
      "name": "python",
      "nbconvert_exporter": "python",
      "pygments_lexer": "ipython3",
      "version": "3.8.3"
    },
    "toc": {
      "base_numbering": 1,
      "nav_menu": {},
      "number_sections": true,
      "sideBar": true,
      "skip_h1_title": false,
      "title_cell": "Table of Contents",
      "title_sidebar": "Contents",
      "toc_cell": false,
      "toc_position": {},
      "toc_section_display": true,
      "toc_window_display": false
    },
    "colab": {
      "name": "4. Control Structures.ipynb",
      "provenance": [],
      "include_colab_link": true
    }
  },
  "cells": [
    {
      "cell_type": "markdown",
      "metadata": {
        "id": "view-in-github",
        "colab_type": "text"
      },
      "source": [
        "<a href=\"https://colab.research.google.com/github/nisharajupal/basic-python/blob/main/4_Control_Structures.ipynb\" target=\"_parent\"><img src=\"https://colab.research.google.com/assets/colab-badge.svg\" alt=\"Open In Colab\"/></a>"
      ]
    },
    {
      "cell_type": "markdown",
      "metadata": {
        "id": "GFjZ9R_U1tUS"
      },
      "source": [
        "# Control Structures"
      ]
    },
    {
      "cell_type": "markdown",
      "metadata": {
        "id": "S61M_0xe1tUW"
      },
      "source": [
        "## Taking User input"
      ]
    },
    {
      "cell_type": "code",
      "metadata": {
        "id": "yDGRlzv61tUW"
      },
      "source": [
        "# input() => It always returns a string datatype"
      ],
      "execution_count": null,
      "outputs": []
    },
    {
      "cell_type": "code",
      "metadata": {
        "id": "feCEhgiF1tUX",
        "outputId": "92dd8791-29f0-41ff-eae5-5eae98a906ac"
      },
      "source": [
        "score = input(\"Enter the current score: \")"
      ],
      "execution_count": null,
      "outputs": [
        {
          "name": "stdout",
          "output_type": "stream",
          "text": [
            "Enter the current score: 99\n"
          ]
        }
      ]
    },
    {
      "cell_type": "code",
      "metadata": {
        "id": "qje30dTh1tUY",
        "outputId": "be89e839-0590-45dd-876f-3c2626823c9f"
      },
      "source": [
        "print(score)"
      ],
      "execution_count": null,
      "outputs": [
        {
          "name": "stdout",
          "output_type": "stream",
          "text": [
            "99\n"
          ]
        }
      ]
    },
    {
      "cell_type": "code",
      "metadata": {
        "id": "G3brKcvQ1tUZ",
        "outputId": "556fa9b1-6838-41ce-f7f9-1c784cdf4188"
      },
      "source": [
        "print(type(score))"
      ],
      "execution_count": null,
      "outputs": [
        {
          "name": "stdout",
          "output_type": "stream",
          "text": [
            "<class 'str'>\n"
          ]
        }
      ]
    },
    {
      "cell_type": "code",
      "metadata": {
        "id": "kjIIANkl1tUZ"
      },
      "source": [
        ""
      ],
      "execution_count": null,
      "outputs": []
    },
    {
      "cell_type": "markdown",
      "metadata": {
        "id": "EWPoLEXJ1tUa"
      },
      "source": [
        "## if , if-else, if-elif-else"
      ]
    },
    {
      "cell_type": "code",
      "metadata": {
        "id": "5H2y2C7Y1tUa",
        "outputId": "d8e5086b-03e0-4fb5-9429-0a02645f2c19"
      },
      "source": [
        "number = input(\"Enter any number: \")\n",
        "number = int(number)\n",
        "print(number, type(number))"
      ],
      "execution_count": null,
      "outputs": [
        {
          "name": "stdout",
          "output_type": "stream",
          "text": [
            "Enter any number: -9\n",
            "-9 <class 'int'>\n"
          ]
        }
      ]
    },
    {
      "cell_type": "code",
      "metadata": {
        "id": "lsxeZdB-1tUa"
      },
      "source": [
        "# if else"
      ],
      "execution_count": null,
      "outputs": []
    },
    {
      "cell_type": "code",
      "metadata": {
        "id": "op-UMcvp1tUb",
        "outputId": "fa51d661-f2b2-425a-c4fb-68466c2e8085"
      },
      "source": [
        "if number >= 0:\n",
        "    print(\"User has entered positive number.\")\n",
        "else:\n",
        "    print(\"User has entered negative number.\")"
      ],
      "execution_count": null,
      "outputs": [
        {
          "name": "stdout",
          "output_type": "stream",
          "text": [
            "User has entered negative number.\n"
          ]
        }
      ]
    },
    {
      "cell_type": "code",
      "metadata": {
        "id": "1EBWaVpz1tUb"
      },
      "source": [
        ""
      ],
      "execution_count": null,
      "outputs": []
    },
    {
      "cell_type": "code",
      "metadata": {
        "id": "9puCzIEi1tUc",
        "outputId": "25de4c61-3d75-49ba-aa78-5e68fe0a21cb"
      },
      "source": [
        "number = int(input(\"Enter any number: \"))\n",
        "if number > 0:\n",
        "    print(\"User has entered positive number.\")\n",
        "elif number == 0:\n",
        "    print(\"User has entered zero number.\")\n",
        "else:\n",
        "    print(\"User has entered negative number.\")\n"
      ],
      "execution_count": null,
      "outputs": [
        {
          "name": "stdout",
          "output_type": "stream",
          "text": [
            "Enter any number: 9\n",
            "User has entered positive number.\n"
          ]
        }
      ]
    },
    {
      "cell_type": "code",
      "metadata": {
        "id": "q7TNiCSA1tUc"
      },
      "source": [
        ""
      ],
      "execution_count": null,
      "outputs": []
    },
    {
      "cell_type": "markdown",
      "metadata": {
        "id": "NeujicS21tUd"
      },
      "source": [
        "## While"
      ]
    },
    {
      "cell_type": "code",
      "metadata": {
        "id": "lg-I0ykJ1tUd",
        "outputId": "553b7931-404a-4656-c93d-597096304493"
      },
      "source": [
        "index = 1\n",
        "while index <= 10:\n",
        "    print(index)\n",
        "    index += 1 # index = index + 1"
      ],
      "execution_count": null,
      "outputs": [
        {
          "name": "stdout",
          "output_type": "stream",
          "text": [
            "1\n",
            "2\n",
            "3\n",
            "4\n",
            "5\n",
            "6\n",
            "7\n",
            "8\n",
            "9\n",
            "10\n"
          ]
        }
      ]
    },
    {
      "cell_type": "code",
      "metadata": {
        "id": "vwTD65XA1tUe"
      },
      "source": [
        ""
      ],
      "execution_count": null,
      "outputs": []
    },
    {
      "cell_type": "markdown",
      "metadata": {
        "id": "Lj2wyXYM1tUe"
      },
      "source": [
        "## Iterating through range"
      ]
    },
    {
      "cell_type": "code",
      "metadata": {
        "id": "oFe55Uza1tUf"
      },
      "source": [
        "r = range(5, 51, 15)"
      ],
      "execution_count": null,
      "outputs": []
    },
    {
      "cell_type": "code",
      "metadata": {
        "id": "Adiipj7-1tUf",
        "outputId": "998ed0ef-52bf-4874-ef90-f43300b57f3f"
      },
      "source": [
        "for item in r:\n",
        "    print(item)"
      ],
      "execution_count": null,
      "outputs": [
        {
          "name": "stdout",
          "output_type": "stream",
          "text": [
            "5\n",
            "20\n",
            "35\n",
            "50\n"
          ]
        }
      ]
    },
    {
      "cell_type": "code",
      "metadata": {
        "id": "lhN-FO7O1tUg"
      },
      "source": [
        ""
      ],
      "execution_count": null,
      "outputs": []
    },
    {
      "cell_type": "markdown",
      "metadata": {
        "id": "6MuUa0k91tUg"
      },
      "source": [
        "## Iterating through list using for loop"
      ]
    },
    {
      "cell_type": "code",
      "metadata": {
        "id": "AOrwUHYk1tUh"
      },
      "source": [
        "websites = [\"amazon\", \"flipkart\", \"snapdeal\"]"
      ],
      "execution_count": null,
      "outputs": []
    },
    {
      "cell_type": "code",
      "metadata": {
        "id": "jP4JTCqD1tUh",
        "outputId": "79ca5634-055a-43ed-87a8-fb1c32717b58"
      },
      "source": [
        "for item in websites:\n",
        "    print(\"www.\" + item + \".com\")"
      ],
      "execution_count": null,
      "outputs": [
        {
          "name": "stdout",
          "output_type": "stream",
          "text": [
            "www.amazon.com\n",
            "www.flipkart.com\n",
            "www.snapdeal.com\n"
          ]
        }
      ]
    },
    {
      "cell_type": "code",
      "metadata": {
        "id": "NqCeQTuF1tUi",
        "outputId": "63492bb2-a1b1-4735-86da-1c42f0b6e3de"
      },
      "source": [
        "for item in websites:\n",
        "    print(\"www.{}.com\".format(item))"
      ],
      "execution_count": null,
      "outputs": [
        {
          "name": "stdout",
          "output_type": "stream",
          "text": [
            "www.amazon.com\n",
            "www.flipkart.com\n",
            "www.snapdeal.com\n"
          ]
        }
      ]
    },
    {
      "cell_type": "code",
      "metadata": {
        "id": "zmitCb8g1tUj"
      },
      "source": [
        ""
      ],
      "execution_count": null,
      "outputs": []
    },
    {
      "cell_type": "markdown",
      "metadata": {
        "id": "rVcofay71tUj"
      },
      "source": [
        "## Iterating through dict"
      ]
    },
    {
      "cell_type": "code",
      "metadata": {
        "id": "-9cLFOfN1tUk"
      },
      "source": [
        "vk = {\"Name\": \"Virat\", \"Age\": 38, \"Team\": \"RCB\"}"
      ],
      "execution_count": null,
      "outputs": []
    },
    {
      "cell_type": "code",
      "metadata": {
        "id": "OlB0aPjO1tUk",
        "outputId": "1aaa4c2b-e533-4cfd-dc3e-e63111d76907"
      },
      "source": [
        "vk.keys()"
      ],
      "execution_count": null,
      "outputs": [
        {
          "data": {
            "text/plain": [
              "dict_keys(['Name', 'Age', 'Team'])"
            ]
          },
          "execution_count": 37,
          "metadata": {},
          "output_type": "execute_result"
        }
      ]
    },
    {
      "cell_type": "code",
      "metadata": {
        "id": "8eV-7mz61tUk",
        "outputId": "7cb91b6a-4d80-4ac4-b961-e5dbdc594e9b"
      },
      "source": [
        "vk.values()"
      ],
      "execution_count": null,
      "outputs": [
        {
          "data": {
            "text/plain": [
              "dict_values(['Virat', 38, 'RCB'])"
            ]
          },
          "execution_count": 38,
          "metadata": {},
          "output_type": "execute_result"
        }
      ]
    },
    {
      "cell_type": "code",
      "metadata": {
        "id": "HZ_Vubc71tUk",
        "outputId": "c495823f-7f07-4bbc-f119-4440fe575b50"
      },
      "source": [
        "vk.items()"
      ],
      "execution_count": null,
      "outputs": [
        {
          "data": {
            "text/plain": [
              "dict_items([('Name', 'Virat'), ('Age', 38), ('Team', 'RCB')])"
            ]
          },
          "execution_count": 39,
          "metadata": {},
          "output_type": "execute_result"
        }
      ]
    },
    {
      "cell_type": "code",
      "metadata": {
        "id": "NbEI0MMe1tUk"
      },
      "source": [
        "# Iterate through keys"
      ],
      "execution_count": null,
      "outputs": []
    },
    {
      "cell_type": "code",
      "metadata": {
        "id": "5CSUu3gR1tUl",
        "outputId": "e1070d6b-8a36-467e-c150-ef4aee2c7f2b"
      },
      "source": [
        "for item in vk:\n",
        "    print(item)"
      ],
      "execution_count": null,
      "outputs": [
        {
          "name": "stdout",
          "output_type": "stream",
          "text": [
            "Name\n",
            "Age\n",
            "Team\n"
          ]
        }
      ]
    },
    {
      "cell_type": "code",
      "metadata": {
        "id": "jIJEbtov1tUl",
        "outputId": "161d4ab9-b8c6-4bd2-96cf-7c238d6ff2b6"
      },
      "source": [
        "for item in vk.values():\n",
        "    print(item)"
      ],
      "execution_count": null,
      "outputs": [
        {
          "name": "stdout",
          "output_type": "stream",
          "text": [
            "Virat\n",
            "38\n",
            "RCB\n"
          ]
        }
      ]
    },
    {
      "cell_type": "code",
      "metadata": {
        "id": "iuF4fy2A1tUn",
        "outputId": "9556add9-f8aa-4fdf-d08b-fc41a5073086"
      },
      "source": [
        "for k, v in vk.items():\n",
        "    print(k, v)"
      ],
      "execution_count": null,
      "outputs": [
        {
          "name": "stdout",
          "output_type": "stream",
          "text": [
            "Name Virat\n",
            "Age 38\n",
            "Team RCB\n"
          ]
        }
      ]
    },
    {
      "cell_type": "code",
      "metadata": {
        "id": "WvqAe5w61tUn",
        "outputId": "58475640-db4c-4f62-deaf-a82779980550"
      },
      "source": [
        "for item in vk.items():\n",
        "    print(item)"
      ],
      "execution_count": null,
      "outputs": [
        {
          "name": "stdout",
          "output_type": "stream",
          "text": [
            "('Name', 'Virat')\n",
            "('Age', 38)\n",
            "('Team', 'RCB')\n"
          ]
        }
      ]
    },
    {
      "cell_type": "code",
      "metadata": {
        "id": "_l3zCZ4I1tUo"
      },
      "source": [
        ""
      ],
      "execution_count": null,
      "outputs": []
    },
    {
      "cell_type": "markdown",
      "metadata": {
        "id": "6xmM5sYI1tUo"
      },
      "source": [
        "## break"
      ]
    },
    {
      "cell_type": "code",
      "metadata": {
        "id": "Jt087c-u1tUo",
        "outputId": "37209aee-d40f-447d-87fc-ad3dc943c14f"
      },
      "source": [
        "for item in range(1, 11):\n",
        "    print(item)\n",
        "    if item == 5:\n",
        "        break"
      ],
      "execution_count": null,
      "outputs": [
        {
          "name": "stdout",
          "output_type": "stream",
          "text": [
            "1\n",
            "2\n",
            "3\n",
            "4\n",
            "5\n"
          ]
        }
      ]
    },
    {
      "cell_type": "code",
      "metadata": {
        "id": "JYX8shlA1tUp"
      },
      "source": [
        ""
      ],
      "execution_count": null,
      "outputs": []
    },
    {
      "cell_type": "markdown",
      "metadata": {
        "id": "JNvQJZhy1tUp"
      },
      "source": [
        "## continue"
      ]
    },
    {
      "cell_type": "code",
      "metadata": {
        "id": "tjXhiDHq1tUq",
        "outputId": "392fc743-9efc-4969-ef8b-51db5da7dd01"
      },
      "source": [
        "for item in range(1, 11):\n",
        "    if item % 2 == 0:\n",
        "        continue\n",
        "    print(item)"
      ],
      "execution_count": null,
      "outputs": [
        {
          "name": "stdout",
          "output_type": "stream",
          "text": [
            "1\n",
            "3\n",
            "5\n",
            "7\n",
            "9\n"
          ]
        }
      ]
    },
    {
      "cell_type": "code",
      "metadata": {
        "id": "bgWTIZO41tUq"
      },
      "source": [
        ""
      ],
      "execution_count": null,
      "outputs": []
    },
    {
      "cell_type": "markdown",
      "metadata": {
        "id": "l4-EdAxq1tUq"
      },
      "source": [
        "## pass"
      ]
    },
    {
      "cell_type": "code",
      "metadata": {
        "id": "9sZzs_AE1tUr"
      },
      "source": [
        "# Syntax Filler\n",
        "# Does nothing"
      ],
      "execution_count": null,
      "outputs": []
    },
    {
      "cell_type": "code",
      "metadata": {
        "id": "n2AMAdg41tUr",
        "outputId": "14e695d8-7a22-4725-8ed4-9fb4f74f75fe"
      },
      "source": [
        "for item in range(1, 11):\n",
        "    "
      ],
      "execution_count": null,
      "outputs": [
        {
          "ename": "SyntaxError",
          "evalue": "unexpected EOF while parsing (<ipython-input-52-00be587fff1c>, line 2)",
          "output_type": "error",
          "traceback": [
            "\u001b[1;36m  File \u001b[1;32m\"<ipython-input-52-00be587fff1c>\"\u001b[1;36m, line \u001b[1;32m2\u001b[0m\n\u001b[1;33m    \u001b[0m\n\u001b[1;37m    ^\u001b[0m\n\u001b[1;31mSyntaxError\u001b[0m\u001b[1;31m:\u001b[0m unexpected EOF while parsing\n"
          ]
        }
      ]
    },
    {
      "cell_type": "code",
      "metadata": {
        "id": "80_7vxue1tUr"
      },
      "source": [
        "for item in range(1, 11):\n",
        "    pass"
      ],
      "execution_count": null,
      "outputs": []
    },
    {
      "cell_type": "code",
      "metadata": {
        "id": "Jd_Api4F1tUs"
      },
      "source": [
        ""
      ],
      "execution_count": null,
      "outputs": []
    },
    {
      "cell_type": "markdown",
      "metadata": {
        "id": "Koruz1Ra1tUs"
      },
      "source": [
        "# Excercise"
      ]
    },
    {
      "cell_type": "markdown",
      "metadata": {
        "id": "2VuhQsFX1tUs"
      },
      "source": [
        "## Excercise 1"
      ]
    },
    {
      "cell_type": "code",
      "metadata": {
        "id": "FDPyt7lu1tUs"
      },
      "source": [
        "# Take input from the user and print the reverse of a number \n",
        "# Input: 123\n",
        "# Output: 321"
      ],
      "execution_count": null,
      "outputs": []
    },
    {
      "cell_type": "code",
      "metadata": {
        "id": "0I1dmskY1tUt",
        "outputId": "03f0b7bc-f246-4cc8-b19e-f563f3eaa23d"
      },
      "source": [
        "num = input(\"Enter any number: \")\n",
        "print(\"Reverse: \", num[::-1])"
      ],
      "execution_count": null,
      "outputs": [
        {
          "name": "stdout",
          "output_type": "stream",
          "text": [
            "Enter any number: 12345\n",
            "Reverse:  54321\n"
          ]
        }
      ]
    },
    {
      "cell_type": "code",
      "metadata": {
        "id": "2eMxS4Z21tUt"
      },
      "source": [
        "s = \"WELCOME\""
      ],
      "execution_count": null,
      "outputs": []
    },
    {
      "cell_type": "code",
      "metadata": {
        "id": "tpvAu1_Y1tUu",
        "outputId": "28409971-bba1-4bc5-a8d2-c0eadad93747"
      },
      "source": [
        "s[::2]"
      ],
      "execution_count": null,
      "outputs": [
        {
          "data": {
            "text/plain": [
              "'WLOE'"
            ]
          },
          "execution_count": 57,
          "metadata": {},
          "output_type": "execute_result"
        }
      ]
    },
    {
      "cell_type": "code",
      "metadata": {
        "id": "b-Jf0Emp1tUu",
        "outputId": "ef989546-3177-49f4-bf9f-b0acd1e9c937"
      },
      "source": [
        "s[::-1]"
      ],
      "execution_count": null,
      "outputs": [
        {
          "data": {
            "text/plain": [
              "'EMOCLEW'"
            ]
          },
          "execution_count": 58,
          "metadata": {},
          "output_type": "execute_result"
        }
      ]
    },
    {
      "cell_type": "code",
      "metadata": {
        "id": "RN_T8TFM1tUv"
      },
      "source": [
        ""
      ],
      "execution_count": null,
      "outputs": []
    },
    {
      "cell_type": "markdown",
      "metadata": {
        "id": "X2PMbS9q1tUv"
      },
      "source": [
        "## Excercise 2"
      ]
    },
    {
      "cell_type": "code",
      "metadata": {
        "id": "0YBJdkbj1tUv"
      },
      "source": [
        "# Write a program to get the sum of all elements in the list\n",
        "# numbers = [11, 22, 33, 44, 55, 66, 77, 88, 99]"
      ],
      "execution_count": null,
      "outputs": []
    },
    {
      "cell_type": "code",
      "metadata": {
        "id": "7ZsmNTaI1tUv"
      },
      "source": [
        "numbers = [11, 22, 33, 44, 55, 66, 77, 88, 99]"
      ],
      "execution_count": null,
      "outputs": []
    },
    {
      "cell_type": "code",
      "metadata": {
        "id": "Pk0PFFV91tUw",
        "outputId": "649f15d4-4b1a-4f86-a0dd-042d2694f718"
      },
      "source": [
        "result = 0\n",
        "for item in numbers:\n",
        "    result += item\n",
        "print(\"Result: \", result)"
      ],
      "execution_count": null,
      "outputs": [
        {
          "name": "stdout",
          "output_type": "stream",
          "text": [
            "Result:  495\n"
          ]
        }
      ]
    },
    {
      "cell_type": "code",
      "metadata": {
        "id": "AXEuuVgL1tUw"
      },
      "source": [
        ""
      ],
      "execution_count": null,
      "outputs": []
    },
    {
      "cell_type": "markdown",
      "metadata": {
        "id": "jixOzPoh1tUx"
      },
      "source": [
        "## Excercise 3"
      ]
    },
    {
      "cell_type": "code",
      "metadata": {
        "id": "qHUIRAJd1tUx"
      },
      "source": [
        "# Write a program to print below pattern\n",
        "#       *\n",
        "#      *  *\n",
        "#     *  *  *\n",
        "#    *  *  *  *\n",
        "#  *   *  *  *  *"
      ],
      "execution_count": null,
      "outputs": []
    },
    {
      "cell_type": "code",
      "metadata": {
        "id": "jRyMBUMm1tUx"
      },
      "source": [
        ""
      ],
      "execution_count": null,
      "outputs": []
    }
  ]
}