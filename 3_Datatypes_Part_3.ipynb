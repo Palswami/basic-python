{
  "nbformat": 4,
  "nbformat_minor": 0,
  "metadata": {
    "kernelspec": {
      "display_name": "Python 3",
      "language": "python",
      "name": "python3"
    },
    "language_info": {
      "codemirror_mode": {
        "name": "ipython",
        "version": 3
      },
      "file_extension": ".py",
      "mimetype": "text/x-python",
      "name": "python",
      "nbconvert_exporter": "python",
      "pygments_lexer": "ipython3",
      "version": "3.8.3"
    },
    "toc": {
      "base_numbering": 1,
      "nav_menu": {},
      "number_sections": true,
      "sideBar": true,
      "skip_h1_title": false,
      "title_cell": "Table of Contents",
      "title_sidebar": "Contents",
      "toc_cell": false,
      "toc_position": {},
      "toc_section_display": true,
      "toc_window_display": false
    },
    "colab": {
      "name": "3. Datatypes - Part 3.ipynb",
      "provenance": [],
      "include_colab_link": true
    }
  },
  "cells": [
    {
      "cell_type": "markdown",
      "metadata": {
        "id": "view-in-github",
        "colab_type": "text"
      },
      "source": [
        "<a href=\"https://colab.research.google.com/github/nisharajupal/basic-python/blob/main/3_Datatypes_Part_3.ipynb\" target=\"_parent\"><img src=\"https://colab.research.google.com/assets/colab-badge.svg\" alt=\"Open In Colab\"/></a>"
      ]
    },
    {
      "cell_type": "markdown",
      "metadata": {
        "id": "tKpY6VDv0YjL"
      },
      "source": [
        "# Dictionaries\n",
        "* Collection of key - value pairs\n",
        "* Syntax: { }\n",
        "* MUTABLE\n",
        "* Maps, Hash Maps"
      ]
    },
    {
      "cell_type": "code",
      "metadata": {
        "id": "jzpIP4Lc0YjO"
      },
      "source": [
        "fruits = {\"a\": \"apple\", \"b\": \"banana\", \"c\": \"cherry\"}"
      ],
      "execution_count": null,
      "outputs": []
    },
    {
      "cell_type": "code",
      "metadata": {
        "id": "S_pvXsBK0YjQ",
        "outputId": "c36cc7af-933b-420a-e161-953920fbbb56"
      },
      "source": [
        "print(fruits)"
      ],
      "execution_count": null,
      "outputs": [
        {
          "name": "stdout",
          "output_type": "stream",
          "text": [
            "{'a': 'apple', 'b': 'banana', 'c': 'cherry'}\n"
          ]
        }
      ]
    },
    {
      "cell_type": "code",
      "metadata": {
        "id": "tN6TJ5C10YjR",
        "outputId": "a15dc1cb-d69e-4bea-ccd5-d7cb1a137925"
      },
      "source": [
        "print(type(fruits))"
      ],
      "execution_count": null,
      "outputs": [
        {
          "name": "stdout",
          "output_type": "stream",
          "text": [
            "<class 'dict'>\n"
          ]
        }
      ]
    },
    {
      "cell_type": "code",
      "metadata": {
        "id": "duMB1ih80YjR",
        "outputId": "8cbf40ef-f74f-467a-8fa0-4dc0a1b7e9f2"
      },
      "source": [
        "len(fruits)"
      ],
      "execution_count": null,
      "outputs": [
        {
          "data": {
            "text/plain": [
              "3"
            ]
          },
          "execution_count": 4,
          "metadata": {},
          "output_type": "execute_result"
        }
      ]
    },
    {
      "cell_type": "code",
      "metadata": {
        "id": "hbKc78jU0YjS",
        "outputId": "b1ecccc6-bfe1-4fe4-ac65-a593dc66562a"
      },
      "source": [
        "fruits['a']"
      ],
      "execution_count": null,
      "outputs": [
        {
          "data": {
            "text/plain": [
              "'apple'"
            ]
          },
          "execution_count": 5,
          "metadata": {},
          "output_type": "execute_result"
        }
      ]
    },
    {
      "cell_type": "code",
      "metadata": {
        "id": "z-dMOF_90YjT",
        "outputId": "18d07744-9aa9-4214-b7d9-936c850bc8a1"
      },
      "source": [
        "fruits[\"d\"]"
      ],
      "execution_count": null,
      "outputs": [
        {
          "ename": "KeyError",
          "evalue": "'d'",
          "output_type": "error",
          "traceback": [
            "\u001b[1;31m---------------------------------------------------------------------------\u001b[0m",
            "\u001b[1;31mKeyError\u001b[0m                                  Traceback (most recent call last)",
            "\u001b[1;32m<ipython-input-6-945c160fc251>\u001b[0m in \u001b[0;36m<module>\u001b[1;34m\u001b[0m\n\u001b[1;32m----> 1\u001b[1;33m \u001b[0mfruits\u001b[0m\u001b[1;33m[\u001b[0m\u001b[1;34m\"d\"\u001b[0m\u001b[1;33m]\u001b[0m\u001b[1;33m\u001b[0m\u001b[1;33m\u001b[0m\u001b[0m\n\u001b[0m",
            "\u001b[1;31mKeyError\u001b[0m: 'd'"
          ]
        }
      ]
    },
    {
      "cell_type": "markdown",
      "metadata": {
        "id": "5FFRV8HP0YjT"
      },
      "source": [
        "## Add elements to dict"
      ]
    },
    {
      "cell_type": "code",
      "metadata": {
        "id": "Zl1vrcDa0YjU"
      },
      "source": [
        "fruits['p'] = \"papaya\""
      ],
      "execution_count": null,
      "outputs": []
    },
    {
      "cell_type": "code",
      "metadata": {
        "id": "RvZvaIHX0YjU",
        "outputId": "718e6016-4262-405e-cde8-57dd3304b61b"
      },
      "source": [
        "fruits"
      ],
      "execution_count": null,
      "outputs": [
        {
          "data": {
            "text/plain": [
              "{'a': 'apple', 'b': 'banana', 'c': 'cherry', 'p': 'papaya'}"
            ]
          },
          "execution_count": 8,
          "metadata": {},
          "output_type": "execute_result"
        }
      ]
    },
    {
      "cell_type": "code",
      "metadata": {
        "id": "14cMQG630YjU"
      },
      "source": [
        "fruits['a'] = \"apricot\""
      ],
      "execution_count": null,
      "outputs": []
    },
    {
      "cell_type": "code",
      "metadata": {
        "id": "IlIW1ndk0YjV",
        "outputId": "028805b9-045d-440c-bb29-ac9f9f311a9e"
      },
      "source": [
        "fruits"
      ],
      "execution_count": null,
      "outputs": [
        {
          "data": {
            "text/plain": [
              "{'a': 'apricot', 'b': 'banana', 'c': 'cherry', 'p': 'papaya'}"
            ]
          },
          "execution_count": 10,
          "metadata": {},
          "output_type": "execute_result"
        }
      ]
    },
    {
      "cell_type": "code",
      "metadata": {
        "id": "MYIiPdbJ0YjV"
      },
      "source": [
        ""
      ],
      "execution_count": null,
      "outputs": []
    },
    {
      "cell_type": "markdown",
      "metadata": {
        "id": "9CuxmUQb0YjY"
      },
      "source": [
        "## Delete elements (key-value) from the dict"
      ]
    },
    {
      "cell_type": "code",
      "metadata": {
        "id": "Os3Kt6Ko0YjY",
        "outputId": "79388606-fdfb-46aa-882a-f06decce9ec2"
      },
      "source": [
        "fruits.pop(\"b\")"
      ],
      "execution_count": null,
      "outputs": [
        {
          "data": {
            "text/plain": [
              "'banana'"
            ]
          },
          "execution_count": 11,
          "metadata": {},
          "output_type": "execute_result"
        }
      ]
    },
    {
      "cell_type": "code",
      "metadata": {
        "id": "XP5N8xgx0YjZ",
        "outputId": "325832b5-f6fd-4834-d1bb-557c75db2891"
      },
      "source": [
        "fruits"
      ],
      "execution_count": null,
      "outputs": [
        {
          "data": {
            "text/plain": [
              "{'a': 'apricot', 'c': 'cherry', 'p': 'papaya'}"
            ]
          },
          "execution_count": 12,
          "metadata": {},
          "output_type": "execute_result"
        }
      ]
    },
    {
      "cell_type": "code",
      "metadata": {
        "id": "aOhepqFI0YjZ",
        "outputId": "62b1464b-aed4-4c49-d7af-a10b71bd803f"
      },
      "source": [
        "fruits.pop(\"d\")"
      ],
      "execution_count": null,
      "outputs": [
        {
          "ename": "KeyError",
          "evalue": "'d'",
          "output_type": "error",
          "traceback": [
            "\u001b[1;31m---------------------------------------------------------------------------\u001b[0m",
            "\u001b[1;31mKeyError\u001b[0m                                  Traceback (most recent call last)",
            "\u001b[1;32m<ipython-input-13-2cfcefeaf7dd>\u001b[0m in \u001b[0;36m<module>\u001b[1;34m\u001b[0m\n\u001b[1;32m----> 1\u001b[1;33m \u001b[0mfruits\u001b[0m\u001b[1;33m.\u001b[0m\u001b[0mpop\u001b[0m\u001b[1;33m(\u001b[0m\u001b[1;34m\"d\"\u001b[0m\u001b[1;33m)\u001b[0m\u001b[1;33m\u001b[0m\u001b[1;33m\u001b[0m\u001b[0m\n\u001b[0m",
            "\u001b[1;31mKeyError\u001b[0m: 'd'"
          ]
        }
      ]
    },
    {
      "cell_type": "code",
      "metadata": {
        "id": "Vo63jPJI0Yja"
      },
      "source": [
        "# Using del keyword"
      ],
      "execution_count": null,
      "outputs": []
    },
    {
      "cell_type": "code",
      "metadata": {
        "id": "PVRwAPYh0Yja",
        "outputId": "d16307e3-9ac9-4a00-9320-772c7c73e30d"
      },
      "source": [
        "fruits"
      ],
      "execution_count": null,
      "outputs": [
        {
          "data": {
            "text/plain": [
              "{'a': 'apricot', 'c': 'cherry', 'p': 'papaya'}"
            ]
          },
          "execution_count": 15,
          "metadata": {},
          "output_type": "execute_result"
        }
      ]
    },
    {
      "cell_type": "code",
      "metadata": {
        "id": "8Czhd5zX0Yja"
      },
      "source": [
        "del fruits['c']"
      ],
      "execution_count": null,
      "outputs": []
    },
    {
      "cell_type": "code",
      "metadata": {
        "id": "dUiVeBhZ0Yja",
        "outputId": "c15c9e84-13b7-4365-8a6e-58e7639af883"
      },
      "source": [
        "fruits"
      ],
      "execution_count": null,
      "outputs": [
        {
          "data": {
            "text/plain": [
              "{'a': 'apricot', 'p': 'papaya'}"
            ]
          },
          "execution_count": 17,
          "metadata": {},
          "output_type": "execute_result"
        }
      ]
    },
    {
      "cell_type": "code",
      "metadata": {
        "id": "K83LvqEH0Yja"
      },
      "source": [
        "# pop item"
      ],
      "execution_count": null,
      "outputs": []
    },
    {
      "cell_type": "code",
      "metadata": {
        "id": "p86cCb8B0Yja",
        "outputId": "9b0d08d3-7088-4ee0-f153-804746fb0773"
      },
      "source": [
        "fruits.popitem()"
      ],
      "execution_count": null,
      "outputs": [
        {
          "data": {
            "text/plain": [
              "('p', 'papaya')"
            ]
          },
          "execution_count": 19,
          "metadata": {},
          "output_type": "execute_result"
        }
      ]
    },
    {
      "cell_type": "code",
      "metadata": {
        "id": "UbPjoxYV0Yja",
        "outputId": "612cfed8-d1c5-421b-f3a6-f2e73568863a"
      },
      "source": [
        "fruits"
      ],
      "execution_count": null,
      "outputs": [
        {
          "data": {
            "text/plain": [
              "{'a': 'apricot'}"
            ]
          },
          "execution_count": 20,
          "metadata": {},
          "output_type": "execute_result"
        }
      ]
    },
    {
      "cell_type": "code",
      "metadata": {
        "id": "UdizkBsa0Yjb",
        "outputId": "5a3f125f-bac9-48f8-e5cf-06e6040bae46"
      },
      "source": [
        "fruits.popitem()"
      ],
      "execution_count": null,
      "outputs": [
        {
          "data": {
            "text/plain": [
              "('a', 'apricot')"
            ]
          },
          "execution_count": 21,
          "metadata": {},
          "output_type": "execute_result"
        }
      ]
    },
    {
      "cell_type": "code",
      "metadata": {
        "id": "QLDvLA5l0Yjb",
        "outputId": "83b60a95-fa48-4128-b22b-04d2f3a91ff6"
      },
      "source": [
        "fruits"
      ],
      "execution_count": null,
      "outputs": [
        {
          "data": {
            "text/plain": [
              "{}"
            ]
          },
          "execution_count": 22,
          "metadata": {},
          "output_type": "execute_result"
        }
      ]
    },
    {
      "cell_type": "code",
      "metadata": {
        "id": "gWDV47S30Yjb",
        "outputId": "24b3651a-5257-45f4-cc79-9658aadd3573"
      },
      "source": [
        "fruits.popitem()"
      ],
      "execution_count": null,
      "outputs": [
        {
          "ename": "KeyError",
          "evalue": "'popitem(): dictionary is empty'",
          "output_type": "error",
          "traceback": [
            "\u001b[1;31m---------------------------------------------------------------------------\u001b[0m",
            "\u001b[1;31mKeyError\u001b[0m                                  Traceback (most recent call last)",
            "\u001b[1;32m<ipython-input-23-dc20ee1c1c35>\u001b[0m in \u001b[0;36m<module>\u001b[1;34m\u001b[0m\n\u001b[1;32m----> 1\u001b[1;33m \u001b[0mfruits\u001b[0m\u001b[1;33m.\u001b[0m\u001b[0mpopitem\u001b[0m\u001b[1;33m(\u001b[0m\u001b[1;33m)\u001b[0m\u001b[1;33m\u001b[0m\u001b[1;33m\u001b[0m\u001b[0m\n\u001b[0m",
            "\u001b[1;31mKeyError\u001b[0m: 'popitem(): dictionary is empty'"
          ]
        }
      ]
    },
    {
      "cell_type": "markdown",
      "metadata": {
        "id": "R896i3dc0Yjc"
      },
      "source": [
        "## Misc Operations"
      ]
    },
    {
      "cell_type": "code",
      "metadata": {
        "id": "7mzI8SZa0Yjc",
        "outputId": "759fb80a-1e49-4463-e443-63bb035ba016"
      },
      "source": [
        "fruits"
      ],
      "execution_count": null,
      "outputs": [
        {
          "data": {
            "text/plain": [
              "{}"
            ]
          },
          "execution_count": 24,
          "metadata": {},
          "output_type": "execute_result"
        }
      ]
    },
    {
      "cell_type": "code",
      "metadata": {
        "id": "BoFBlndG0Yjc"
      },
      "source": [
        "fruits[\"a\"] = \"apple\"\n",
        "fruits[\"b\"] = \"banana\"\n",
        "fruits['c'] = 'cherry'"
      ],
      "execution_count": null,
      "outputs": []
    },
    {
      "cell_type": "code",
      "metadata": {
        "id": "vNl9gxzd0Yjd",
        "outputId": "b44066a2-2b67-4dd5-f625-6c2d83c537d0"
      },
      "source": [
        "fruits"
      ],
      "execution_count": null,
      "outputs": [
        {
          "data": {
            "text/plain": [
              "{'a': 'apple', 'b': 'banana', 'c': 'cherry'}"
            ]
          },
          "execution_count": 26,
          "metadata": {},
          "output_type": "execute_result"
        }
      ]
    },
    {
      "cell_type": "code",
      "metadata": {
        "id": "odFQbI1B0Yjd",
        "outputId": "0820327a-3bc2-496b-9947-f14c2e547d76"
      },
      "source": [
        "fruits.keys()"
      ],
      "execution_count": null,
      "outputs": [
        {
          "data": {
            "text/plain": [
              "dict_keys(['a', 'b', 'c'])"
            ]
          },
          "execution_count": 27,
          "metadata": {},
          "output_type": "execute_result"
        }
      ]
    },
    {
      "cell_type": "code",
      "metadata": {
        "id": "bu2lkxpq0Yjd",
        "outputId": "a67eda04-894b-4b73-a9ad-97c835ca62e7"
      },
      "source": [
        "fruits.values()"
      ],
      "execution_count": null,
      "outputs": [
        {
          "data": {
            "text/plain": [
              "dict_values(['apple', 'banana', 'cherry'])"
            ]
          },
          "execution_count": 28,
          "metadata": {},
          "output_type": "execute_result"
        }
      ]
    },
    {
      "cell_type": "code",
      "metadata": {
        "id": "oHraqWad0Yje",
        "outputId": "771bdf64-97a9-4f63-bf36-0c6dadeac645"
      },
      "source": [
        "fruits.items()"
      ],
      "execution_count": null,
      "outputs": [
        {
          "data": {
            "text/plain": [
              "dict_items([('a', 'apple'), ('b', 'banana'), ('c', 'cherry')])"
            ]
          },
          "execution_count": 29,
          "metadata": {},
          "output_type": "execute_result"
        }
      ]
    },
    {
      "cell_type": "code",
      "metadata": {
        "id": "kJj7iw7O0Yje"
      },
      "source": [
        "# in operator"
      ],
      "execution_count": null,
      "outputs": []
    },
    {
      "cell_type": "code",
      "metadata": {
        "id": "VUOCN0so0Yje",
        "outputId": "7b1a7e1f-981f-4d40-d86e-826040874e74"
      },
      "source": [
        "\"a\" in fruits"
      ],
      "execution_count": null,
      "outputs": [
        {
          "data": {
            "text/plain": [
              "True"
            ]
          },
          "execution_count": 31,
          "metadata": {},
          "output_type": "execute_result"
        }
      ]
    },
    {
      "cell_type": "code",
      "metadata": {
        "id": "nHmNCGT70Yje",
        "outputId": "da2790d9-e30e-43c7-84e6-2c26f5d085c9"
      },
      "source": [
        "\"p\" in fruits"
      ],
      "execution_count": null,
      "outputs": [
        {
          "data": {
            "text/plain": [
              "False"
            ]
          },
          "execution_count": 32,
          "metadata": {},
          "output_type": "execute_result"
        }
      ]
    },
    {
      "cell_type": "code",
      "metadata": {
        "id": "tm-uk66p0Yjf",
        "outputId": "e7095a42-488f-480f-9e7a-4ea7f6cc59b4"
      },
      "source": [
        "\"z\" not in fruits"
      ],
      "execution_count": null,
      "outputs": [
        {
          "data": {
            "text/plain": [
              "True"
            ]
          },
          "execution_count": 33,
          "metadata": {},
          "output_type": "execute_result"
        }
      ]
    },
    {
      "cell_type": "code",
      "metadata": {
        "id": "uwdTtQlg0Yjf",
        "outputId": "5d4e1df7-fd07-4f02-bbfe-a2cdff403e45"
      },
      "source": [
        "\"apple\" in fruits.values()"
      ],
      "execution_count": null,
      "outputs": [
        {
          "data": {
            "text/plain": [
              "True"
            ]
          },
          "execution_count": 34,
          "metadata": {},
          "output_type": "execute_result"
        }
      ]
    },
    {
      "cell_type": "code",
      "metadata": {
        "id": "gjMQmdNL0Yjf",
        "outputId": "f00042b6-bdb8-4078-ddd9-3d9b51b2e341"
      },
      "source": [
        "\"papaya\" in fruits.values()"
      ],
      "execution_count": null,
      "outputs": [
        {
          "data": {
            "text/plain": [
              "False"
            ]
          },
          "execution_count": 35,
          "metadata": {},
          "output_type": "execute_result"
        }
      ]
    },
    {
      "cell_type": "code",
      "metadata": {
        "id": "qZ4KtHiZ0Yjg"
      },
      "source": [
        ""
      ],
      "execution_count": null,
      "outputs": []
    },
    {
      "cell_type": "markdown",
      "metadata": {
        "id": "AQOr0op50Yjg"
      },
      "source": [
        "# Range\n",
        "* Used to generate a series/sequence of numbers\n",
        "* Start (included), Stop (excluded), Step Count"
      ]
    },
    {
      "cell_type": "code",
      "metadata": {
        "id": "IB-ntrur0Yjg"
      },
      "source": [
        "r = range(0, 11)"
      ],
      "execution_count": null,
      "outputs": []
    },
    {
      "cell_type": "code",
      "metadata": {
        "id": "HqQNOvri0Yjg",
        "outputId": "1879ec1e-0ed6-4a98-dd21-7328f51ad063"
      },
      "source": [
        "r"
      ],
      "execution_count": null,
      "outputs": [
        {
          "data": {
            "text/plain": [
              "range(0, 11)"
            ]
          },
          "execution_count": 37,
          "metadata": {},
          "output_type": "execute_result"
        }
      ]
    },
    {
      "cell_type": "code",
      "metadata": {
        "id": "cAHIpu6b0Yjh",
        "outputId": "1fa4baaa-37aa-47bd-e0dd-b1b0857501ec"
      },
      "source": [
        "print(type(r))"
      ],
      "execution_count": null,
      "outputs": [
        {
          "name": "stdout",
          "output_type": "stream",
          "text": [
            "<class 'range'>\n"
          ]
        }
      ]
    },
    {
      "cell_type": "code",
      "metadata": {
        "id": "ZKuPrzVn0Yjh",
        "outputId": "2ef15f16-a81e-4031-a53b-57848a8dcfd4"
      },
      "source": [
        "list(r)"
      ],
      "execution_count": null,
      "outputs": [
        {
          "data": {
            "text/plain": [
              "[0, 1, 2, 3, 4, 5, 6, 7, 8, 9, 10]"
            ]
          },
          "execution_count": 39,
          "metadata": {},
          "output_type": "execute_result"
        }
      ]
    },
    {
      "cell_type": "code",
      "metadata": {
        "id": "TrwdIyIj0Yjh",
        "outputId": "aa564c3a-bab6-445c-fc5c-850e864e5504"
      },
      "source": [
        "tuple(r)"
      ],
      "execution_count": null,
      "outputs": [
        {
          "data": {
            "text/plain": [
              "(0, 1, 2, 3, 4, 5, 6, 7, 8, 9, 10)"
            ]
          },
          "execution_count": 40,
          "metadata": {},
          "output_type": "execute_result"
        }
      ]
    },
    {
      "cell_type": "code",
      "metadata": {
        "id": "toJGQlDK0Yji"
      },
      "source": [
        ""
      ],
      "execution_count": null,
      "outputs": []
    },
    {
      "cell_type": "code",
      "metadata": {
        "id": "3ZvXDCQr0Yji"
      },
      "source": [
        "r1 = range(15)"
      ],
      "execution_count": null,
      "outputs": []
    },
    {
      "cell_type": "code",
      "metadata": {
        "id": "_paE27Jc0Yji",
        "outputId": "47a3a2c5-510e-4320-9b82-5c1a2cb203b9"
      },
      "source": [
        "print(r1)"
      ],
      "execution_count": null,
      "outputs": [
        {
          "name": "stdout",
          "output_type": "stream",
          "text": [
            "range(0, 15)\n"
          ]
        }
      ]
    },
    {
      "cell_type": "code",
      "metadata": {
        "id": "y4oqUiQJ0Yji",
        "outputId": "cbbdf3ef-52f6-4389-a9d5-317efb196ad1"
      },
      "source": [
        "list(r1)"
      ],
      "execution_count": null,
      "outputs": [
        {
          "data": {
            "text/plain": [
              "[0, 1, 2, 3, 4, 5, 6, 7, 8, 9, 10, 11, 12, 13, 14]"
            ]
          },
          "execution_count": 43,
          "metadata": {},
          "output_type": "execute_result"
        }
      ]
    },
    {
      "cell_type": "code",
      "metadata": {
        "id": "qCcZ4JCd0Yjj"
      },
      "source": [
        ""
      ],
      "execution_count": null,
      "outputs": []
    },
    {
      "cell_type": "code",
      "metadata": {
        "id": "4Hvc_cO_0Yjj"
      },
      "source": [
        "r2 = range(5, 20)"
      ],
      "execution_count": null,
      "outputs": []
    },
    {
      "cell_type": "code",
      "metadata": {
        "id": "B0-k4_5O0Yjj",
        "outputId": "9cdec8b8-0d3e-4db1-b24d-f246e6f8871f"
      },
      "source": [
        "list(r2)"
      ],
      "execution_count": null,
      "outputs": [
        {
          "data": {
            "text/plain": [
              "[5, 6, 7, 8, 9, 10, 11, 12, 13, 14, 15, 16, 17, 18, 19]"
            ]
          },
          "execution_count": 45,
          "metadata": {},
          "output_type": "execute_result"
        }
      ]
    },
    {
      "cell_type": "code",
      "metadata": {
        "id": "DoIODHs80Yjk"
      },
      "source": [
        ""
      ],
      "execution_count": null,
      "outputs": []
    },
    {
      "cell_type": "code",
      "metadata": {
        "id": "kzQu6hBk0Yjk"
      },
      "source": [
        "r3 = range(5, 51, 10)"
      ],
      "execution_count": null,
      "outputs": []
    },
    {
      "cell_type": "code",
      "metadata": {
        "id": "k_15b4Px0Yjk",
        "outputId": "0ffce1df-6ad6-4be2-d455-e0e6f58574c1"
      },
      "source": [
        "print(r3)"
      ],
      "execution_count": null,
      "outputs": [
        {
          "name": "stdout",
          "output_type": "stream",
          "text": [
            "range(5, 51, 10)\n"
          ]
        }
      ]
    },
    {
      "cell_type": "code",
      "metadata": {
        "id": "bC4XwTIo0Yjk",
        "outputId": "10561139-937c-4c01-b9aa-6f1cfa4fc462"
      },
      "source": [
        "list(r3)"
      ],
      "execution_count": null,
      "outputs": [
        {
          "data": {
            "text/plain": [
              "[5, 15, 25, 35, 45]"
            ]
          },
          "execution_count": 48,
          "metadata": {},
          "output_type": "execute_result"
        }
      ]
    },
    {
      "cell_type": "code",
      "metadata": {
        "id": "SC3q8jJE0Yjl"
      },
      "source": [
        ""
      ],
      "execution_count": null,
      "outputs": []
    },
    {
      "cell_type": "code",
      "metadata": {
        "id": "cq9yOl9A0Yjl"
      },
      "source": [
        "r4 = range(100, 0, -10)"
      ],
      "execution_count": null,
      "outputs": []
    },
    {
      "cell_type": "code",
      "metadata": {
        "id": "lXqwI_EY0Yjl",
        "outputId": "7e17854c-fed6-4313-8970-7059cbc1aa06"
      },
      "source": [
        "r4"
      ],
      "execution_count": null,
      "outputs": [
        {
          "data": {
            "text/plain": [
              "range(100, 0, -10)"
            ]
          },
          "execution_count": 50,
          "metadata": {},
          "output_type": "execute_result"
        }
      ]
    },
    {
      "cell_type": "code",
      "metadata": {
        "id": "JAD-h7aw0Yjl",
        "outputId": "2358f31e-787e-45b9-9338-b65ec6c28a4f"
      },
      "source": [
        "list(r4)"
      ],
      "execution_count": null,
      "outputs": [
        {
          "data": {
            "text/plain": [
              "[100, 90, 80, 70, 60, 50, 40, 30, 20, 10]"
            ]
          },
          "execution_count": 51,
          "metadata": {},
          "output_type": "execute_result"
        }
      ]
    },
    {
      "cell_type": "code",
      "metadata": {
        "id": "kWWtp0x20Yjm"
      },
      "source": [
        ""
      ],
      "execution_count": null,
      "outputs": []
    },
    {
      "cell_type": "code",
      "metadata": {
        "id": "_ykKz3fv0Yjm"
      },
      "source": [
        "r5 = range(-10, -101, -10)"
      ],
      "execution_count": null,
      "outputs": []
    },
    {
      "cell_type": "code",
      "metadata": {
        "id": "iZ0qC3Wv0Yjm",
        "outputId": "be1d8bce-197f-43ea-b10a-ee22ecaca482"
      },
      "source": [
        "list(r5)"
      ],
      "execution_count": null,
      "outputs": [
        {
          "data": {
            "text/plain": [
              "[-10, -20, -30, -40, -50, -60, -70, -80, -90, -100]"
            ]
          },
          "execution_count": 55,
          "metadata": {},
          "output_type": "execute_result"
        }
      ]
    },
    {
      "cell_type": "code",
      "metadata": {
        "id": "cTDD-3WA0Yjn"
      },
      "source": [
        ""
      ],
      "execution_count": null,
      "outputs": []
    },
    {
      "cell_type": "markdown",
      "metadata": {
        "id": "V176hiV20Yjn"
      },
      "source": [
        "# Sets\n",
        "* Unique collection of IMMUTABLE items/objects\n",
        "* Syntax: { }\n",
        "* MUTABLE"
      ]
    },
    {
      "cell_type": "code",
      "metadata": {
        "id": "a-fWqqPk0Yjn"
      },
      "source": [
        "a = {\"Sun\", \"Mon\", \"Tue\"}"
      ],
      "execution_count": null,
      "outputs": []
    },
    {
      "cell_type": "code",
      "metadata": {
        "id": "Z9sICCqV0Yjn",
        "outputId": "ae470683-216c-4ce3-edc6-ed0599147c6f"
      },
      "source": [
        "print(a)"
      ],
      "execution_count": null,
      "outputs": [
        {
          "name": "stdout",
          "output_type": "stream",
          "text": [
            "{'Tue', 'Sun', 'Mon'}\n"
          ]
        }
      ]
    },
    {
      "cell_type": "code",
      "metadata": {
        "id": "TKvftUaO0Yjo",
        "outputId": "6ac7d3d6-d7bc-4a40-9152-1cb47d77fc85"
      },
      "source": [
        "print(type(a))"
      ],
      "execution_count": null,
      "outputs": [
        {
          "name": "stdout",
          "output_type": "stream",
          "text": [
            "<class 'set'>\n"
          ]
        }
      ]
    },
    {
      "cell_type": "code",
      "metadata": {
        "id": "2sL5fqjZ0Yjo"
      },
      "source": [
        "a.add(\"Wed\")"
      ],
      "execution_count": null,
      "outputs": []
    },
    {
      "cell_type": "code",
      "metadata": {
        "id": "7WS3J9oi0Yjo",
        "outputId": "51535d67-f726-4d3c-9d56-cf469e6cbfc4"
      },
      "source": [
        "a"
      ],
      "execution_count": null,
      "outputs": [
        {
          "data": {
            "text/plain": [
              "{'Mon', 'Sun', 'Tue', 'Wed'}"
            ]
          },
          "execution_count": 61,
          "metadata": {},
          "output_type": "execute_result"
        }
      ]
    },
    {
      "cell_type": "code",
      "metadata": {
        "id": "Rxc8fLUM0Yjp"
      },
      "source": [
        "a.add(\"Sun\")"
      ],
      "execution_count": null,
      "outputs": []
    },
    {
      "cell_type": "code",
      "metadata": {
        "id": "a4DDtj0G0Yjp",
        "outputId": "222081c5-23fa-4bda-d1ed-9492d4d5bf09"
      },
      "source": [
        "a"
      ],
      "execution_count": null,
      "outputs": [
        {
          "data": {
            "text/plain": [
              "{'Mon', 'Sun', 'Tue', 'Wed'}"
            ]
          },
          "execution_count": 63,
          "metadata": {},
          "output_type": "execute_result"
        }
      ]
    },
    {
      "cell_type": "code",
      "metadata": {
        "id": "J0myvH3V0Yjp"
      },
      "source": [
        "a.add(\"sun\")"
      ],
      "execution_count": null,
      "outputs": []
    },
    {
      "cell_type": "code",
      "metadata": {
        "id": "gSZ8VeJX0Yjq",
        "outputId": "e2ef0326-197b-488c-caef-52e3e351b955"
      },
      "source": [
        "a"
      ],
      "execution_count": null,
      "outputs": [
        {
          "data": {
            "text/plain": [
              "{'Mon', 'Sun', 'Tue', 'Wed', 'sun'}"
            ]
          },
          "execution_count": 65,
          "metadata": {},
          "output_type": "execute_result"
        }
      ]
    },
    {
      "cell_type": "code",
      "metadata": {
        "id": "SvYehgeK0Yjq"
      },
      "source": [
        "b = {\"Thu\", \"Fri\", \"Sat\"}"
      ],
      "execution_count": null,
      "outputs": []
    },
    {
      "cell_type": "code",
      "metadata": {
        "id": "smJsnl7T0Yjq",
        "outputId": "e48b5a1e-2cd8-48d6-a3bd-7dfd495f957b"
      },
      "source": [
        "a + b"
      ],
      "execution_count": null,
      "outputs": [
        {
          "ename": "TypeError",
          "evalue": "unsupported operand type(s) for +: 'set' and 'set'",
          "output_type": "error",
          "traceback": [
            "\u001b[1;31m---------------------------------------------------------------------------\u001b[0m",
            "\u001b[1;31mTypeError\u001b[0m                                 Traceback (most recent call last)",
            "\u001b[1;32m<ipython-input-67-bd58363a63fc>\u001b[0m in \u001b[0;36m<module>\u001b[1;34m\u001b[0m\n\u001b[1;32m----> 1\u001b[1;33m \u001b[0ma\u001b[0m \u001b[1;33m+\u001b[0m \u001b[0mb\u001b[0m\u001b[1;33m\u001b[0m\u001b[1;33m\u001b[0m\u001b[0m\n\u001b[0m",
            "\u001b[1;31mTypeError\u001b[0m: unsupported operand type(s) for +: 'set' and 'set'"
          ]
        }
      ]
    },
    {
      "cell_type": "code",
      "metadata": {
        "id": "hMGAah-a0Yjq",
        "outputId": "b6ec222a-1a12-4807-b39c-7b2565ccbec1"
      },
      "source": [
        "a | b"
      ],
      "execution_count": null,
      "outputs": [
        {
          "data": {
            "text/plain": [
              "{'Fri', 'Mon', 'Sat', 'Sun', 'Thu', 'Tue', 'Wed', 'sun'}"
            ]
          },
          "execution_count": 68,
          "metadata": {},
          "output_type": "execute_result"
        }
      ]
    },
    {
      "cell_type": "code",
      "metadata": {
        "id": "jcddGQCF0Yjr",
        "outputId": "d2eac15b-d5ae-4ee9-e39b-fd9d88fe3048"
      },
      "source": [
        "a.union(b)"
      ],
      "execution_count": null,
      "outputs": [
        {
          "data": {
            "text/plain": [
              "{'Fri', 'Mon', 'Sat', 'Sun', 'Thu', 'Tue', 'Wed', 'sun'}"
            ]
          },
          "execution_count": 69,
          "metadata": {},
          "output_type": "execute_result"
        }
      ]
    },
    {
      "cell_type": "code",
      "metadata": {
        "id": "wD7SJPLW0Yjr",
        "outputId": "2ef4c2c6-8a3d-4015-dcf5-609080d3cd5c"
      },
      "source": [
        "a - b"
      ],
      "execution_count": null,
      "outputs": [
        {
          "data": {
            "text/plain": [
              "{'Mon', 'Sun', 'Tue', 'Wed', 'sun'}"
            ]
          },
          "execution_count": 70,
          "metadata": {},
          "output_type": "execute_result"
        }
      ]
    },
    {
      "cell_type": "code",
      "metadata": {
        "id": "GeeeEONq0Yjr",
        "outputId": "31bf57d6-90a3-48a1-d6f4-68f5542562de"
      },
      "source": [
        "b - a"
      ],
      "execution_count": null,
      "outputs": [
        {
          "data": {
            "text/plain": [
              "{'Fri', 'Sat', 'Thu'}"
            ]
          },
          "execution_count": 71,
          "metadata": {},
          "output_type": "execute_result"
        }
      ]
    },
    {
      "cell_type": "code",
      "metadata": {
        "id": "i-WW5cim0Yjs",
        "outputId": "5532c43a-d263-48c3-9711-c647f7b75f1b"
      },
      "source": [
        "a.difference(b)"
      ],
      "execution_count": null,
      "outputs": [
        {
          "data": {
            "text/plain": [
              "{'Mon', 'Sun', 'Tue', 'Wed', 'sun'}"
            ]
          },
          "execution_count": 72,
          "metadata": {},
          "output_type": "execute_result"
        }
      ]
    },
    {
      "cell_type": "code",
      "metadata": {
        "id": "9-vn_HPI0Yjs",
        "outputId": "7696a78a-a7d8-4cbe-9fbc-b62ae832267d"
      },
      "source": [
        "b.difference(a)"
      ],
      "execution_count": null,
      "outputs": [
        {
          "data": {
            "text/plain": [
              "{'Fri', 'Sat', 'Thu'}"
            ]
          },
          "execution_count": 73,
          "metadata": {},
          "output_type": "execute_result"
        }
      ]
    },
    {
      "cell_type": "code",
      "metadata": {
        "id": "OVjws8uR0Yjs"
      },
      "source": [
        "b.add(\"Sun\")"
      ],
      "execution_count": null,
      "outputs": []
    },
    {
      "cell_type": "code",
      "metadata": {
        "id": "czd-cQf80Yjt"
      },
      "source": [
        ""
      ],
      "execution_count": null,
      "outputs": []
    },
    {
      "cell_type": "code",
      "metadata": {
        "id": "XsDMWCiG0Yjt"
      },
      "source": [
        "a = {\"Sun\", \"Mon\", \"Tue\", \"Wed\"}"
      ],
      "execution_count": null,
      "outputs": []
    },
    {
      "cell_type": "code",
      "metadata": {
        "id": "UHfcvrR-0Yjt"
      },
      "source": [
        "b = {\"Wed\", \"Thu\", \"Fri\", \"Sat\"}"
      ],
      "execution_count": null,
      "outputs": []
    },
    {
      "cell_type": "code",
      "metadata": {
        "id": "d_sJoev50Yjt",
        "outputId": "456ce353-aea6-496f-da16-9f4360adef10"
      },
      "source": [
        "a | b"
      ],
      "execution_count": null,
      "outputs": [
        {
          "data": {
            "text/plain": [
              "{'Fri', 'Mon', 'Sat', 'Sun', 'Thu', 'Tue', 'Wed'}"
            ]
          },
          "execution_count": 77,
          "metadata": {},
          "output_type": "execute_result"
        }
      ]
    },
    {
      "cell_type": "code",
      "metadata": {
        "id": "i8KKAvzP0Yju",
        "outputId": "05e1fc6d-499e-4131-d480-f4c12cb9ec9e"
      },
      "source": [
        "a - b"
      ],
      "execution_count": null,
      "outputs": [
        {
          "data": {
            "text/plain": [
              "{'Mon', 'Sun', 'Tue'}"
            ]
          },
          "execution_count": 78,
          "metadata": {},
          "output_type": "execute_result"
        }
      ]
    },
    {
      "cell_type": "code",
      "metadata": {
        "id": "1uleq7oA0Yju",
        "outputId": "aa9b11f8-546a-4f02-9553-771eec17ae83"
      },
      "source": [
        "b - a"
      ],
      "execution_count": null,
      "outputs": [
        {
          "data": {
            "text/plain": [
              "{'Fri', 'Sat', 'Thu'}"
            ]
          },
          "execution_count": 79,
          "metadata": {},
          "output_type": "execute_result"
        }
      ]
    },
    {
      "cell_type": "code",
      "metadata": {
        "id": "j8WXs4gZ0Yju",
        "outputId": "a9f9591f-d233-4331-b81e-d3b8f4efe8ff"
      },
      "source": [
        "a & b"
      ],
      "execution_count": null,
      "outputs": [
        {
          "data": {
            "text/plain": [
              "{'Wed'}"
            ]
          },
          "execution_count": 80,
          "metadata": {},
          "output_type": "execute_result"
        }
      ]
    },
    {
      "cell_type": "code",
      "metadata": {
        "id": "dU5_KnwU0Yjv",
        "outputId": "93df3c7c-f271-4a59-d84f-37d33e20068c"
      },
      "source": [
        "a ^ b"
      ],
      "execution_count": null,
      "outputs": [
        {
          "data": {
            "text/plain": [
              "{'Fri', 'Mon', 'Sat', 'Sun', 'Thu', 'Tue'}"
            ]
          },
          "execution_count": 81,
          "metadata": {},
          "output_type": "execute_result"
        }
      ]
    },
    {
      "cell_type": "code",
      "metadata": {
        "id": "NGXqwiFD0Yjv",
        "outputId": "c4eaed72-e9ba-4873-f1de-23558cc9fc84"
      },
      "source": [
        "a.difference(b) # a - b"
      ],
      "execution_count": null,
      "outputs": [
        {
          "data": {
            "text/plain": [
              "{'Mon', 'Sun', 'Tue'}"
            ]
          },
          "execution_count": 83,
          "metadata": {},
          "output_type": "execute_result"
        }
      ]
    },
    {
      "cell_type": "code",
      "metadata": {
        "id": "zPjO5HIq0Yjv",
        "outputId": "eae84826-6e72-4fcd-9aa1-10787a99910c"
      },
      "source": [
        "a.intersection(b) # a & b"
      ],
      "execution_count": null,
      "outputs": [
        {
          "data": {
            "text/plain": [
              "{'Wed'}"
            ]
          },
          "execution_count": 85,
          "metadata": {},
          "output_type": "execute_result"
        }
      ]
    },
    {
      "cell_type": "code",
      "metadata": {
        "id": "SG8qcw3n0Yjw",
        "outputId": "18ef6493-2af9-4130-dba3-83f7c5b3be28"
      },
      "source": [
        "a.union(b) # a | b"
      ],
      "execution_count": null,
      "outputs": [
        {
          "data": {
            "text/plain": [
              "{'Fri', 'Mon', 'Sat', 'Sun', 'Thu', 'Tue', 'Wed'}"
            ]
          },
          "execution_count": 87,
          "metadata": {},
          "output_type": "execute_result"
        }
      ]
    },
    {
      "cell_type": "code",
      "metadata": {
        "id": "tKcBL6Ew0Yjw"
      },
      "source": [
        ""
      ],
      "execution_count": null,
      "outputs": []
    },
    {
      "cell_type": "code",
      "metadata": {
        "id": "eXa2QNcj0Yjw"
      },
      "source": [
        "p = {}"
      ],
      "execution_count": 2,
      "outputs": []
    },
    {
      "cell_type": "code",
      "metadata": {
        "id": "B71_0vFv0Yjw",
        "outputId": "af09eadb-a184-40eb-bd5a-ec6d4a7eefa5"
      },
      "source": [
        "print(type(p))"
      ],
      "execution_count": null,
      "outputs": [
        {
          "name": "stdout",
          "output_type": "stream",
          "text": [
            "<class 'dict'>\n"
          ]
        }
      ]
    },
    {
      "cell_type": "code",
      "metadata": {
        "id": "1HG3aiJc0Yjx"
      },
      "source": [
        "q = set()"
      ],
      "execution_count": null,
      "outputs": []
    },
    {
      "cell_type": "code",
      "metadata": {
        "colab": {
          "base_uri": "https://localhost:8080/"
        },
        "id": "UQMjm12v0Yjx",
        "outputId": "aa7079dd-a22c-4677-ca28-39bea38de2ed"
      },
      "source": [
        "print(type('q'))"
      ],
      "execution_count": 5,
      "outputs": [
        {
          "output_type": "stream",
          "name": "stdout",
          "text": [
            "<class 'str'>\n"
          ]
        }
      ]
    },
    {
      "cell_type": "code",
      "metadata": {
        "id": "eCIx2mXc0Yjx"
      },
      "source": [
        ""
      ],
      "execution_count": null,
      "outputs": []
    },
    {
      "cell_type": "code",
      "metadata": {
        "id": "E0f10jIU0Yjx"
      },
      "source": [
        "# IMMUTABLE: Strings, Number, boolean, tuple\n",
        "# MUTABLE  : list, dict, set"
      ],
      "execution_count": 1,
      "outputs": []
    },
    {
      "cell_type": "code",
      "metadata": {
        "id": "ooNPKAI_0Yjy"
      },
      "source": [
        ""
      ],
      "execution_count": 1,
      "outputs": []
    }
  ]
}