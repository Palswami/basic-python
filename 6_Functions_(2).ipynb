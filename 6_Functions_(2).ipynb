{
  "nbformat": 4,
  "nbformat_minor": 0,
  "metadata": {
    "kernelspec": {
      "display_name": "Python 3",
      "language": "python",
      "name": "python3"
    },
    "language_info": {
      "codemirror_mode": {
        "name": "ipython",
        "version": 3
      },
      "file_extension": ".py",
      "mimetype": "text/x-python",
      "name": "python",
      "nbconvert_exporter": "python",
      "pygments_lexer": "ipython3",
      "version": "3.8.3"
    },
    "toc": {
      "base_numbering": 1,
      "nav_menu": {},
      "number_sections": true,
      "sideBar": true,
      "skip_h1_title": false,
      "title_cell": "Table of Contents",
      "title_sidebar": "Contents",
      "toc_cell": false,
      "toc_position": {},
      "toc_section_display": true,
      "toc_window_display": true
    },
    "colab": {
      "name": "6. Functions  (2).ipynb",
      "provenance": [],
      "include_colab_link": true
    }
  },
  "cells": [
    {
      "cell_type": "markdown",
      "metadata": {
        "id": "view-in-github",
        "colab_type": "text"
      },
      "source": [
        "<a href=\"https://colab.research.google.com/github/nisharajupal/basic-python/blob/main/6_Functions_(2).ipynb\" target=\"_parent\"><img src=\"https://colab.research.google.com/assets/colab-badge.svg\" alt=\"Open In Colab\"/></a>"
      ]
    },
    {
      "cell_type": "markdown",
      "metadata": {
        "id": "fxXCaYkC22gw"
      },
      "source": [
        "# Functions"
      ]
    },
    {
      "cell_type": "code",
      "metadata": {
        "id": "NpsoUkp022g0"
      },
      "source": [
        "# Block of code\n",
        "# Code reuseability\n",
        "# DRY - Don't Repeat Yourself"
      ],
      "execution_count": null,
      "outputs": []
    },
    {
      "cell_type": "markdown",
      "metadata": {
        "id": "vVU8irW822g3"
      },
      "source": [
        "## Basics"
      ]
    },
    {
      "cell_type": "code",
      "metadata": {
        "id": "v2a06lMu22g3"
      },
      "source": [
        "def SimpleFunction():\n",
        "    print(\"Inside SimpleFunction!!!\")\n",
        "    print(\"Exiting SimpleFunction\")"
      ],
      "execution_count": null,
      "outputs": []
    },
    {
      "cell_type": "code",
      "metadata": {
        "id": "lxRVWBOP22g4",
        "outputId": "f4583539-f67d-4da6-f4c4-0dea8b6338b9"
      },
      "source": [
        "SimpleFunction()"
      ],
      "execution_count": null,
      "outputs": [
        {
          "name": "stdout",
          "output_type": "stream",
          "text": [
            "Inside SimpleFunction!!!\n",
            "Exiting SimpleFunction\n"
          ]
        }
      ]
    },
    {
      "cell_type": "code",
      "metadata": {
        "id": "9slJ5gWV22g4"
      },
      "source": [
        ""
      ],
      "execution_count": null,
      "outputs": []
    },
    {
      "cell_type": "code",
      "metadata": {
        "id": "rsFzY-Cy22g5"
      },
      "source": [
        "def findMaximum(x, y):\n",
        "    if x > y:\n",
        "        return x\n",
        "    else:\n",
        "        return y"
      ],
      "execution_count": null,
      "outputs": []
    },
    {
      "cell_type": "code",
      "metadata": {
        "id": "rYL9_kGU22g5",
        "outputId": "8cbca66c-0653-4c1a-bcf6-373fe7338942"
      },
      "source": [
        "findMaximum(3, 5)"
      ],
      "execution_count": null,
      "outputs": [
        {
          "data": {
            "text/plain": [
              "5"
            ]
          },
          "execution_count": 6,
          "metadata": {},
          "output_type": "execute_result"
        }
      ]
    },
    {
      "cell_type": "code",
      "metadata": {
        "id": "mT3Njl_s22g6"
      },
      "source": [
        "result = findMaximum(10, 3)"
      ],
      "execution_count": null,
      "outputs": []
    },
    {
      "cell_type": "code",
      "metadata": {
        "id": "wtGw7yhN22g6",
        "outputId": "85030761-7a40-4aac-ddea-2b92d3e8ea07"
      },
      "source": [
        "print(result)"
      ],
      "execution_count": null,
      "outputs": [
        {
          "name": "stdout",
          "output_type": "stream",
          "text": [
            "10\n"
          ]
        }
      ]
    },
    {
      "cell_type": "code",
      "metadata": {
        "id": "Fjg4V57O22g6"
      },
      "source": [
        ""
      ],
      "execution_count": null,
      "outputs": []
    },
    {
      "cell_type": "markdown",
      "metadata": {
        "id": "MtgU_OwM22g7"
      },
      "source": [
        "## Factorial Of Number"
      ]
    },
    {
      "cell_type": "markdown",
      "metadata": {
        "id": "7MuQHJ8d22g7"
      },
      "source": [
        "### Iterative Approach"
      ]
    },
    {
      "cell_type": "code",
      "metadata": {
        "id": "BxIHCaex22g8"
      },
      "source": [
        "# 5! = 5 * 4 * 3 * 2 * 1\n",
        "# 4! = 4 * 3 * 2 * 1\n",
        "# 1! = 1\n",
        "# 0! = 1"
      ],
      "execution_count": null,
      "outputs": []
    },
    {
      "cell_type": "code",
      "metadata": {
        "id": "SMjvILD_22g8"
      },
      "source": [
        "def iterFactorial(num):\n",
        "    # result, iteration, sequence\n",
        "    result = 1\n",
        "    for item in range(1, num + 1):\n",
        "        result = result * item\n",
        "    return result"
      ],
      "execution_count": null,
      "outputs": []
    },
    {
      "cell_type": "code",
      "metadata": {
        "id": "70rFb07D22g8",
        "outputId": "a91565e1-491b-47fa-bb2c-001bd58638f5"
      },
      "source": [
        "print(iterFactorial(5))"
      ],
      "execution_count": null,
      "outputs": [
        {
          "name": "stdout",
          "output_type": "stream",
          "text": [
            "120\n"
          ]
        }
      ]
    },
    {
      "cell_type": "code",
      "metadata": {
        "id": "kMq7xYjz22g9"
      },
      "source": [
        "# Take userinput and then call this function"
      ],
      "execution_count": null,
      "outputs": []
    },
    {
      "cell_type": "code",
      "metadata": {
        "id": "S7pNBZ1k22g9",
        "outputId": "5d47c3d9-f20a-4549-c5b7-456587d470ac"
      },
      "source": [
        "num = int(input(\"Enter any number: \"))\n",
        "print(\"Result: \", iterFactorial(num))"
      ],
      "execution_count": null,
      "outputs": [
        {
          "name": "stdout",
          "output_type": "stream",
          "text": [
            "Enter any number: -8\n",
            "Result:  1\n"
          ]
        }
      ]
    },
    {
      "cell_type": "code",
      "metadata": {
        "id": "8pgSF2jy22g-"
      },
      "source": [
        ""
      ],
      "execution_count": null,
      "outputs": []
    },
    {
      "cell_type": "markdown",
      "metadata": {
        "id": "UJWdjlNg22g-"
      },
      "source": [
        "### Recursive Approach"
      ]
    },
    {
      "cell_type": "code",
      "metadata": {
        "id": "GG2yzvg722g_"
      },
      "source": [
        "# 5! = 5 * 4!\n",
        "# 4! = 4 * 3!\n",
        "# 3! = 3 * 2!\n",
        "# 2! = 2 * 1!\n",
        "# n! = n * (n-1)!"
      ],
      "execution_count": null,
      "outputs": []
    },
    {
      "cell_type": "code",
      "metadata": {
        "id": "-wF5qNoO22g_"
      },
      "source": [
        "def recurFactorial(num):\n",
        "    if num == 0 or num == 1:\n",
        "        return 1\n",
        "    else:\n",
        "        return num * recurFactorial(num - 1)\n",
        "    "
      ],
      "execution_count": null,
      "outputs": []
    },
    {
      "cell_type": "code",
      "metadata": {
        "id": "y1gz3nlP22hA",
        "outputId": "30197501-ebfe-40ad-f7b8-f8b712d9dafd"
      },
      "source": [
        "num = int(input(\"Enter any number: \"))\n",
        "print(\"Result: \", recurFactorial(num))"
      ],
      "execution_count": null,
      "outputs": [
        {
          "name": "stdout",
          "output_type": "stream",
          "text": [
            "Enter any number: 5\n",
            "Result:  120\n"
          ]
        }
      ]
    },
    {
      "cell_type": "code",
      "metadata": {
        "id": "KEb4Mijw22hA"
      },
      "source": [
        ""
      ],
      "execution_count": null,
      "outputs": []
    },
    {
      "cell_type": "markdown",
      "metadata": {
        "id": "4kTlELNl22hB"
      },
      "source": [
        "## Default Arguments"
      ]
    },
    {
      "cell_type": "code",
      "metadata": {
        "id": "_XupBPsu22hB"
      },
      "source": [
        "def DefaultArgumentFunction(x=123):\n",
        "    print(\"The value of x is {}\".format(x))"
      ],
      "execution_count": null,
      "outputs": []
    },
    {
      "cell_type": "code",
      "metadata": {
        "id": "BywJduX222hB",
        "outputId": "6e9a1f0d-0745-4b41-e9ff-d9a6c5a0bee0"
      },
      "source": [
        "DefaultArgumentFunction()"
      ],
      "execution_count": null,
      "outputs": [
        {
          "name": "stdout",
          "output_type": "stream",
          "text": [
            "The value of x is 123\n"
          ]
        }
      ]
    },
    {
      "cell_type": "code",
      "metadata": {
        "id": "YgjjU2Nn22hC",
        "outputId": "19eda73d-9b6d-4334-f548-48005d344012"
      },
      "source": [
        "DefaultArgumentFunction(456)"
      ],
      "execution_count": null,
      "outputs": [
        {
          "name": "stdout",
          "output_type": "stream",
          "text": [
            "The value of x is 456\n"
          ]
        }
      ]
    },
    {
      "cell_type": "code",
      "metadata": {
        "id": "AGi2Brao22hC",
        "outputId": "bae04f81-6c44-49f5-9138-c0e7233cb201"
      },
      "source": [
        "DefaultArgumentFunction(\"Hello World!!!\")"
      ],
      "execution_count": null,
      "outputs": [
        {
          "name": "stdout",
          "output_type": "stream",
          "text": [
            "The value of x is Hello World!!!\n"
          ]
        }
      ]
    },
    {
      "cell_type": "code",
      "metadata": {
        "id": "KbMLIq4Q22hD"
      },
      "source": [
        ""
      ],
      "execution_count": null,
      "outputs": []
    },
    {
      "cell_type": "markdown",
      "metadata": {
        "id": "7j2RwuMV22hF"
      },
      "source": [
        "## Named Arguments"
      ]
    },
    {
      "cell_type": "code",
      "metadata": {
        "id": "fZqgma9922hG"
      },
      "source": [
        "def namedArgumentFunction(a, b, c):\n",
        "    print(\"The values are a: {}, b: {}, c: {}\".format(a, b, c))"
      ],
      "execution_count": null,
      "outputs": []
    },
    {
      "cell_type": "code",
      "metadata": {
        "id": "WikK5E_822hG",
        "outputId": "df8a26b5-d914-4ed7-ae2c-b3a738b4cb63"
      },
      "source": [
        "namedArgumentFunction(100, 200, 300) # positional way of passing the values"
      ],
      "execution_count": null,
      "outputs": [
        {
          "name": "stdout",
          "output_type": "stream",
          "text": [
            "The values are a: 100, b: 200, c: 300\n"
          ]
        }
      ]
    },
    {
      "cell_type": "code",
      "metadata": {
        "id": "XBcjvuBJ22hH",
        "outputId": "8182f383-ba8c-4294-9081-96fdfe0cd2d4"
      },
      "source": [
        "namedArgumentFunction(c=900, a=700, b=800) # Using named/keyword way of passing the values"
      ],
      "execution_count": null,
      "outputs": [
        {
          "name": "stdout",
          "output_type": "stream",
          "text": [
            "The values are a: 700, b: 800, c: 900\n"
          ]
        }
      ]
    },
    {
      "cell_type": "code",
      "metadata": {
        "id": "1pq5pEon22hH"
      },
      "source": [
        "# When using both positional and named, always pass positional arguments before named arguments"
      ],
      "execution_count": null,
      "outputs": []
    },
    {
      "cell_type": "code",
      "metadata": {
        "id": "oOu6khyV22hH",
        "outputId": "a19b0a4f-2595-4c80-ea2b-b9dfb48d5e1f"
      },
      "source": [
        "namedArgumentFunction(a=500, 600, c=700) # error"
      ],
      "execution_count": null,
      "outputs": [
        {
          "ename": "SyntaxError",
          "evalue": "positional argument follows keyword argument (<ipython-input-31-a82e9539e47f>, line 1)",
          "output_type": "error",
          "traceback": [
            "\u001b[1;36m  File \u001b[1;32m\"<ipython-input-31-a82e9539e47f>\"\u001b[1;36m, line \u001b[1;32m1\u001b[0m\n\u001b[1;33m    namedArgumentFunction(a=500, 600, c=700) # error\u001b[0m\n\u001b[1;37m                                 ^\u001b[0m\n\u001b[1;31mSyntaxError\u001b[0m\u001b[1;31m:\u001b[0m positional argument follows keyword argument\n"
          ]
        }
      ]
    },
    {
      "cell_type": "code",
      "metadata": {
        "id": "adzRH7Qj22hH",
        "outputId": "2e9f69cc-a6cf-4f1c-9852-c258ecb869ea"
      },
      "source": [
        "namedArgumentFunction(33, c=55, b=44)"
      ],
      "execution_count": null,
      "outputs": [
        {
          "name": "stdout",
          "output_type": "stream",
          "text": [
            "The values are a: 33, b: 44, c: 55\n"
          ]
        }
      ]
    },
    {
      "cell_type": "code",
      "metadata": {
        "id": "UcKzn3k-22hI",
        "outputId": "a729cd7e-88d6-4009-8385-8906113cdd3e"
      },
      "source": [
        "namedArgumentFunction(1000, c=2000, a=1500)"
      ],
      "execution_count": null,
      "outputs": [
        {
          "ename": "TypeError",
          "evalue": "namedArgumentFunction() got multiple values for argument 'a'",
          "output_type": "error",
          "traceback": [
            "\u001b[1;31m---------------------------------------------------------------------------\u001b[0m",
            "\u001b[1;31mTypeError\u001b[0m                                 Traceback (most recent call last)",
            "\u001b[1;32m<ipython-input-33-ea8384202fe9>\u001b[0m in \u001b[0;36m<module>\u001b[1;34m\u001b[0m\n\u001b[1;32m----> 1\u001b[1;33m \u001b[0mnamedArgumentFunction\u001b[0m\u001b[1;33m(\u001b[0m\u001b[1;36m1000\u001b[0m\u001b[1;33m,\u001b[0m \u001b[0mc\u001b[0m\u001b[1;33m=\u001b[0m\u001b[1;36m2000\u001b[0m\u001b[1;33m,\u001b[0m \u001b[0ma\u001b[0m\u001b[1;33m=\u001b[0m\u001b[1;36m1500\u001b[0m\u001b[1;33m)\u001b[0m\u001b[1;33m\u001b[0m\u001b[1;33m\u001b[0m\u001b[0m\n\u001b[0m",
            "\u001b[1;31mTypeError\u001b[0m: namedArgumentFunction() got multiple values for argument 'a'"
          ]
        }
      ]
    },
    {
      "cell_type": "code",
      "metadata": {
        "id": "wv5OY6qz22hI"
      },
      "source": [
        ""
      ],
      "execution_count": null,
      "outputs": []
    },
    {
      "cell_type": "markdown",
      "metadata": {
        "id": "y_fxj8l722hJ"
      },
      "source": [
        "## Lambda Functions"
      ]
    },
    {
      "cell_type": "code",
      "metadata": {
        "id": "ESAtbpuy22hJ"
      },
      "source": [
        "def MySquare(num):\n",
        "    return num * num"
      ],
      "execution_count": null,
      "outputs": []
    },
    {
      "cell_type": "code",
      "metadata": {
        "id": "WJUcT4df22hJ",
        "outputId": "c304786f-a3a7-41d6-cabd-a9314353c1b9"
      },
      "source": [
        "print(MySquare(10))"
      ],
      "execution_count": null,
      "outputs": [
        {
          "name": "stdout",
          "output_type": "stream",
          "text": [
            "100\n"
          ]
        }
      ]
    },
    {
      "cell_type": "markdown",
      "metadata": {
        "id": "FlDKR30x22hK"
      },
      "source": [
        "* Lamda Functions\n",
        "* Functions with *NO* names\n",
        "* Anonymous functions\n",
        "* One-liner functions"
      ]
    },
    {
      "cell_type": "code",
      "metadata": {
        "id": "5ap2GjQD22hK"
      },
      "source": [
        "f = lambda num: num * num"
      ],
      "execution_count": null,
      "outputs": []
    },
    {
      "cell_type": "code",
      "metadata": {
        "id": "AMyu3GC_22hK",
        "outputId": "847adf2d-5b4d-48e1-fb37-b669240ae36a"
      },
      "source": [
        "f(11)"
      ],
      "execution_count": null,
      "outputs": [
        {
          "data": {
            "text/plain": [
              "121"
            ]
          },
          "execution_count": 37,
          "metadata": {},
          "output_type": "execute_result"
        }
      ]
    },
    {
      "cell_type": "code",
      "metadata": {
        "id": "4NoyvemF22hL",
        "outputId": "6f2ad60c-f6bd-4381-95a2-169cdc1390e2"
      },
      "source": [
        "print(f(11))"
      ],
      "execution_count": null,
      "outputs": [
        {
          "name": "stdout",
          "output_type": "stream",
          "text": [
            "121\n"
          ]
        }
      ]
    },
    {
      "cell_type": "code",
      "metadata": {
        "id": "YXT6iwC422hL",
        "outputId": "7eaa6eab-4352-4185-a824-05b1ace24ccd"
      },
      "source": [
        "print((lambda num: num * num)(11))"
      ],
      "execution_count": null,
      "outputs": [
        {
          "name": "stdout",
          "output_type": "stream",
          "text": [
            "121\n"
          ]
        }
      ]
    },
    {
      "cell_type": "code",
      "metadata": {
        "id": "pyRolfC322hL"
      },
      "source": [
        ""
      ],
      "execution_count": null,
      "outputs": []
    },
    {
      "cell_type": "markdown",
      "metadata": {
        "id": "Gm79sw8W22hM"
      },
      "source": [
        "## args and kwargs"
      ]
    },
    {
      "cell_type": "markdown",
      "metadata": {
        "id": "93bsT6dv22hM"
      },
      "source": [
        "### args"
      ]
    },
    {
      "cell_type": "code",
      "metadata": {
        "id": "BbJUiglN22hM"
      },
      "source": [
        "def SumOfNumbers(x, y):\n",
        "    result = x + y\n",
        "    print(\"Result: \", x + y)"
      ],
      "execution_count": null,
      "outputs": []
    },
    {
      "cell_type": "code",
      "metadata": {
        "id": "f09wcolE22hM",
        "outputId": "dcf8b31d-9840-45c8-f0f7-b558afce2cd4"
      },
      "source": [
        "SumOfNumbers(1, 2)"
      ],
      "execution_count": null,
      "outputs": [
        {
          "name": "stdout",
          "output_type": "stream",
          "text": [
            "Result:  3\n"
          ]
        }
      ]
    },
    {
      "cell_type": "code",
      "metadata": {
        "id": "aQZNGk9y22hN"
      },
      "source": [
        "# SumOfNumbers([1, 2, 3, 4, 5])"
      ],
      "execution_count": null,
      "outputs": []
    },
    {
      "cell_type": "code",
      "metadata": {
        "id": "KBrfZHTi22hN"
      },
      "source": [
        "def SumOfNumbersUsingArgs(*args): # Receiver Side, All the arguments are packed into a tuple\n",
        "    print(\"Args: \", args)\n",
        "    print(\"Type Of Args: \", type(args))\n",
        "    result = 0\n",
        "    for item in args:\n",
        "        result += item\n",
        "    print(\"Result : \", result)"
      ],
      "execution_count": null,
      "outputs": []
    },
    {
      "cell_type": "code",
      "metadata": {
        "colab": {
          "base_uri": "https://localhost:8080/",
          "height": 163
        },
        "id": "i2Twj9fc22hO",
        "outputId": "21f455c8-3f0b-4f09-a259-9d5011387822"
      },
      "source": [
        "SumOfNumbersUsingArgs(1, 2)"
      ],
      "execution_count": 2,
      "outputs": [
        {
          "output_type": "error",
          "ename": "NameError",
          "evalue": "ignored",
          "traceback": [
            "\u001b[0;31m---------------------------------------------------------------------------\u001b[0m",
            "\u001b[0;31mNameError\u001b[0m                                 Traceback (most recent call last)",
            "\u001b[0;32m<ipython-input-2-027f4c7c7007>\u001b[0m in \u001b[0;36m<module>\u001b[0;34m()\u001b[0m\n\u001b[0;32m----> 1\u001b[0;31m \u001b[0mSumOfNumbersUsingArgs\u001b[0m\u001b[0;34m(\u001b[0m\u001b[0;36m1\u001b[0m\u001b[0;34m,\u001b[0m \u001b[0;36m2\u001b[0m\u001b[0;34m)\u001b[0m\u001b[0;34m\u001b[0m\u001b[0;34m\u001b[0m\u001b[0m\n\u001b[0m",
            "\u001b[0;31mNameError\u001b[0m: name 'SumOfNumbersUsingArgs' is not defined"
          ]
        }
      ]
    },
    {
      "cell_type": "code",
      "metadata": {
        "id": "qOCL4VSv22hO",
        "outputId": "1998d564-3281-496d-d388-3855b1d09a6e"
      },
      "source": [
        "SumOfNumbersUsingArgs(1, 2, 3)"
      ],
      "execution_count": null,
      "outputs": [
        {
          "name": "stdout",
          "output_type": "stream",
          "text": [
            "Args:  (1, 2, 3)\n",
            "Type Of Args:  <class 'tuple'>\n",
            "Result :  6\n"
          ]
        }
      ]
    },
    {
      "cell_type": "code",
      "metadata": {
        "id": "_52FQsDP22hP",
        "outputId": "8f0227e7-5eb3-43ef-912e-3894f2b2eec0"
      },
      "source": [
        "SumOfNumbersUsingArgs(1, 2, 3, 4, 5, 6, 7, 8, 9, 10)"
      ],
      "execution_count": null,
      "outputs": [
        {
          "name": "stdout",
          "output_type": "stream",
          "text": [
            "Args:  (1, 2, 3, 4, 5, 6, 7, 8, 9, 10)\n",
            "Type Of Args:  <class 'tuple'>\n",
            "Result :  55\n"
          ]
        }
      ]
    },
    {
      "cell_type": "code",
      "metadata": {
        "id": "c0TYWsCg22hQ"
      },
      "source": [
        ""
      ],
      "execution_count": null,
      "outputs": []
    },
    {
      "cell_type": "code",
      "metadata": {
        "id": "RfBD_-g422hQ"
      },
      "source": [
        "t = (10, 20, 30, 40, 50)"
      ],
      "execution_count": null,
      "outputs": []
    },
    {
      "cell_type": "code",
      "metadata": {
        "id": "xK_lHKs522hQ",
        "outputId": "76a3229e-8774-4454-f4b7-e3c7a4c65f46"
      },
      "source": [
        "SumOfNumbersUsingArgs(t) # Incorrect of passing the elements"
      ],
      "execution_count": null,
      "outputs": [
        {
          "name": "stdout",
          "output_type": "stream",
          "text": [
            "Args:  ((10, 20, 30, 40, 50),)\n",
            "Type Of Args:  <class 'tuple'>\n"
          ]
        },
        {
          "ename": "TypeError",
          "evalue": "unsupported operand type(s) for +=: 'int' and 'tuple'",
          "output_type": "error",
          "traceback": [
            "\u001b[1;31m---------------------------------------------------------------------------\u001b[0m",
            "\u001b[1;31mTypeError\u001b[0m                                 Traceback (most recent call last)",
            "\u001b[1;32m<ipython-input-14-2aafde10b0f4>\u001b[0m in \u001b[0;36m<module>\u001b[1;34m\u001b[0m\n\u001b[1;32m----> 1\u001b[1;33m \u001b[0mSumOfNumbersUsingArgs\u001b[0m\u001b[1;33m(\u001b[0m\u001b[0mt\u001b[0m\u001b[1;33m)\u001b[0m \u001b[1;31m# Incorrect of passing the elements\u001b[0m\u001b[1;33m\u001b[0m\u001b[1;33m\u001b[0m\u001b[0m\n\u001b[0m",
            "\u001b[1;32m<ipython-input-8-c61a1806f7e1>\u001b[0m in \u001b[0;36mSumOfNumbersUsingArgs\u001b[1;34m(*args)\u001b[0m\n\u001b[0;32m      4\u001b[0m     \u001b[0mresult\u001b[0m \u001b[1;33m=\u001b[0m \u001b[1;36m0\u001b[0m\u001b[1;33m\u001b[0m\u001b[1;33m\u001b[0m\u001b[0m\n\u001b[0;32m      5\u001b[0m     \u001b[1;32mfor\u001b[0m \u001b[0mitem\u001b[0m \u001b[1;32min\u001b[0m \u001b[0margs\u001b[0m\u001b[1;33m:\u001b[0m\u001b[1;33m\u001b[0m\u001b[1;33m\u001b[0m\u001b[0m\n\u001b[1;32m----> 6\u001b[1;33m         \u001b[0mresult\u001b[0m \u001b[1;33m+=\u001b[0m \u001b[0mitem\u001b[0m\u001b[1;33m\u001b[0m\u001b[1;33m\u001b[0m\u001b[0m\n\u001b[0m\u001b[0;32m      7\u001b[0m     \u001b[0mprint\u001b[0m\u001b[1;33m(\u001b[0m\u001b[1;34m\"Result : \"\u001b[0m\u001b[1;33m,\u001b[0m \u001b[0mresult\u001b[0m\u001b[1;33m)\u001b[0m\u001b[1;33m\u001b[0m\u001b[1;33m\u001b[0m\u001b[0m\n",
            "\u001b[1;31mTypeError\u001b[0m: unsupported operand type(s) for +=: 'int' and 'tuple'"
          ]
        }
      ]
    },
    {
      "cell_type": "code",
      "metadata": {
        "id": "1MzCbfX422hR",
        "outputId": "f6e595c9-8a5a-443f-e0b9-284f1ac838eb"
      },
      "source": [
        "SumOfNumbersUsingArgs(t[0], t[1], t[2], t[3], t[4])"
      ],
      "execution_count": null,
      "outputs": [
        {
          "name": "stdout",
          "output_type": "stream",
          "text": [
            "Args:  (10, 20, 30, 40, 50)\n",
            "Type Of Args:  <class 'tuple'>\n",
            "Result :  150\n"
          ]
        }
      ]
    },
    {
      "cell_type": "code",
      "metadata": {
        "id": "CiaeZTNH22hR",
        "outputId": "9f2d7b8d-3060-4e9c-d3e9-1d70eb3622c0"
      },
      "source": [
        "SumOfNumbersUsingArgs(*t) # Caller side, Unpacking"
      ],
      "execution_count": null,
      "outputs": [
        {
          "name": "stdout",
          "output_type": "stream",
          "text": [
            "Args:  (10, 20, 30, 40, 50)\n",
            "Type Of Args:  <class 'tuple'>\n",
            "Result :  150\n"
          ]
        }
      ]
    },
    {
      "cell_type": "code",
      "metadata": {
        "id": "b0dMHGSE22hS"
      },
      "source": [
        ""
      ],
      "execution_count": null,
      "outputs": []
    },
    {
      "cell_type": "markdown",
      "metadata": {
        "id": "9HqQpPYJ22hS"
      },
      "source": [
        "### args - taking user input"
      ]
    },
    {
      "cell_type": "code",
      "metadata": {
        "id": "yJNnZCn122hS",
        "outputId": "feb8bc30-0fd0-4cd1-d8b1-bfd1a5fd0728"
      },
      "source": [
        "userInput = input(\"Enter comma seperated numbers: \")"
      ],
      "execution_count": null,
      "outputs": [
        {
          "name": "stdout",
          "output_type": "stream",
          "text": [
            "Enter comma seperated numbers: 11,22,33,44,55\n"
          ]
        }
      ]
    },
    {
      "cell_type": "code",
      "metadata": {
        "id": "L-LKOXZ822hT",
        "outputId": "50cb12e2-51b9-49dc-f1f9-cfcb82c1ac0c"
      },
      "source": [
        "print(userInput, type(userInput))"
      ],
      "execution_count": null,
      "outputs": [
        {
          "name": "stdout",
          "output_type": "stream",
          "text": [
            "11,22,33,44,55 <class 'str'>\n"
          ]
        }
      ]
    },
    {
      "cell_type": "code",
      "metadata": {
        "id": "1MDXcphi22hT"
      },
      "source": [
        "lstNo = userInput.split(\",\")"
      ],
      "execution_count": null,
      "outputs": []
    },
    {
      "cell_type": "code",
      "metadata": {
        "id": "KhwpeNX222hT",
        "outputId": "e7f13461-7ab7-4273-af18-2cdef4704d83"
      },
      "source": [
        "lstNo"
      ],
      "execution_count": null,
      "outputs": [
        {
          "data": {
            "text/plain": [
              "['11', '22', '33', '44', '55']"
            ]
          },
          "execution_count": 22,
          "metadata": {},
          "output_type": "execute_result"
        }
      ]
    },
    {
      "cell_type": "code",
      "metadata": {
        "id": "L-1skuEU22hU"
      },
      "source": [
        "newNo = []\n",
        "for item in lstNo:\n",
        "    newNo.append(int(item))"
      ],
      "execution_count": null,
      "outputs": []
    },
    {
      "cell_type": "code",
      "metadata": {
        "id": "nVnmxTwx22hU",
        "outputId": "e69c557a-ecbb-4cc6-b735-b07b66d766ca"
      },
      "source": [
        "newNo"
      ],
      "execution_count": null,
      "outputs": [
        {
          "data": {
            "text/plain": [
              "[11, 22, 33, 44, 55]"
            ]
          },
          "execution_count": 24,
          "metadata": {},
          "output_type": "execute_result"
        }
      ]
    },
    {
      "cell_type": "code",
      "metadata": {
        "id": "cnppwa-G22hV",
        "outputId": "7ede8ede-7084-4ede-da64-173352652b5a"
      },
      "source": [
        "SumOfNumbersUsingArgs(*newNo)"
      ],
      "execution_count": null,
      "outputs": [
        {
          "name": "stdout",
          "output_type": "stream",
          "text": [
            "Args:  (11, 22, 33, 44, 55)\n",
            "Type Of Args:  <class 'tuple'>\n",
            "Result :  165\n"
          ]
        }
      ]
    },
    {
      "cell_type": "code",
      "metadata": {
        "id": "h1hjxVM422hV"
      },
      "source": [
        ""
      ],
      "execution_count": null,
      "outputs": []
    },
    {
      "cell_type": "markdown",
      "metadata": {
        "id": "e27IerIj22hV"
      },
      "source": [
        "## kwargs - Dict"
      ]
    },
    {
      "cell_type": "code",
      "metadata": {
        "id": "cEASG3Zs22hV"
      },
      "source": [
        "# printPlayerDetailsV1(name=\"Virat\", age=33, team=\"RCB\")"
      ],
      "execution_count": null,
      "outputs": []
    },
    {
      "cell_type": "code",
      "metadata": {
        "id": "0sF-8WNH22hW"
      },
      "source": [
        "# printPlayerDetailsV2(name=\"Virat\", age=33, team=\"RCB\", salary=1000)"
      ],
      "execution_count": null,
      "outputs": []
    },
    {
      "cell_type": "code",
      "metadata": {
        "id": "_Se3yywn22hW"
      },
      "source": [
        "def printPlayerDetails(**kwargs): # Receiver side, all the named/keyword arguments are packed into a dict. Packing\n",
        "    print(\"kwargs : \", kwargs)\n",
        "    print(\"Type of kwargs: \", type(kwargs))\n",
        "    for k, v in kwargs.items():\n",
        "        print(\"k -> {}, v -> {}\".format(k, v))"
      ],
      "execution_count": null,
      "outputs": []
    },
    {
      "cell_type": "code",
      "metadata": {
        "id": "d8IJSSw_22hW",
        "outputId": "ecddb491-ec68-438c-a251-6564ecdb3818"
      },
      "source": [
        "printPlayerDetails(name=\"Virat\", age=33, team=\"RCB\")"
      ],
      "execution_count": null,
      "outputs": [
        {
          "name": "stdout",
          "output_type": "stream",
          "text": [
            "kwargs :  {'name': 'Virat', 'age': 33, 'team': 'RCB'}\n",
            "Type of kwargs:  <class 'dict'>\n",
            "k -> name, v -> Virat\n",
            "k -> age, v -> 33\n",
            "k -> team, v -> RCB\n"
          ]
        }
      ]
    },
    {
      "cell_type": "code",
      "metadata": {
        "id": "KPKtsxQ722hX",
        "outputId": "15ed837a-5ce0-4526-b1a3-9af5dee591eb"
      },
      "source": [
        "printPlayerDetails(name=\"Virat\", age=33, team=\"RCB\", salary=1000)"
      ],
      "execution_count": null,
      "outputs": [
        {
          "name": "stdout",
          "output_type": "stream",
          "text": [
            "kwargs :  {'name': 'Virat', 'age': 33, 'team': 'RCB', 'salary': 1000}\n",
            "Type of kwargs:  <class 'dict'>\n",
            "k -> name, v -> Virat\n",
            "k -> age, v -> 33\n",
            "k -> team, v -> RCB\n",
            "k -> salary, v -> 1000\n"
          ]
        }
      ]
    },
    {
      "cell_type": "code",
      "metadata": {
        "id": "KO2QWRFv22hX"
      },
      "source": [
        ""
      ],
      "execution_count": null,
      "outputs": []
    },
    {
      "cell_type": "code",
      "metadata": {
        "id": "HxfC9Qlo22hX"
      },
      "source": [
        "d = {\"name\": \"MSD\", \"age\": 39, \"team\": \"CSK\"}"
      ],
      "execution_count": null,
      "outputs": []
    },
    {
      "cell_type": "code",
      "metadata": {
        "id": "TO7EDKHX22hY",
        "outputId": "e0df76c2-29ff-4622-c042-8c61e9cad5a0"
      },
      "source": [
        "printPlayerDetails(name=d['name'], age=d['age'], team=d['team'])"
      ],
      "execution_count": null,
      "outputs": [
        {
          "name": "stdout",
          "output_type": "stream",
          "text": [
            "kwargs :  {'name': 'MSD', 'age': 39, 'team': 'CSK'}\n",
            "Type of kwargs:  <class 'dict'>\n",
            "k -> name, v -> MSD\n",
            "k -> age, v -> 39\n",
            "k -> team, v -> CSK\n"
          ]
        }
      ]
    },
    {
      "cell_type": "code",
      "metadata": {
        "id": "G6u8RZXP22hY",
        "outputId": "94084480-e390-4d28-acac-4decc5a699f9"
      },
      "source": [
        "printPlayerDetails(**d) # Caller Side, Unpacking"
      ],
      "execution_count": null,
      "outputs": [
        {
          "name": "stdout",
          "output_type": "stream",
          "text": [
            "kwargs :  {'name': 'MSD', 'age': 39, 'team': 'CSK'}\n",
            "Type of kwargs:  <class 'dict'>\n",
            "k -> name, v -> MSD\n",
            "k -> age, v -> 39\n",
            "k -> team, v -> CSK\n"
          ]
        }
      ]
    },
    {
      "cell_type": "code",
      "metadata": {
        "id": "s0_x0nTB22hZ"
      },
      "source": [
        "# printPlayerDetails(d) "
      ],
      "execution_count": null,
      "outputs": []
    },
    {
      "cell_type": "code",
      "metadata": {
        "id": "H5-YoRID22hZ"
      },
      "source": [
        ""
      ],
      "execution_count": null,
      "outputs": []
    }
  ]
}