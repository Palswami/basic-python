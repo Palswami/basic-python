{
  "nbformat": 4,
  "nbformat_minor": 0,
  "metadata": {
    "kernelspec": {
      "display_name": "Python 3",
      "language": "python",
      "name": "python3"
    },
    "language_info": {
      "codemirror_mode": {
        "name": "ipython",
        "version": 3
      },
      "file_extension": ".py",
      "mimetype": "text/x-python",
      "name": "python",
      "nbconvert_exporter": "python",
      "pygments_lexer": "ipython3",
      "version": "3.8.3"
    },
    "toc": {
      "base_numbering": 1,
      "nav_menu": {},
      "number_sections": true,
      "sideBar": true,
      "skip_h1_title": false,
      "title_cell": "Table of Contents",
      "title_sidebar": "Contents",
      "toc_cell": false,
      "toc_position": {},
      "toc_section_display": true,
      "toc_window_display": false
    },
    "colab": {
      "name": "5. Functions .ipynb",
      "provenance": [],
      "include_colab_link": true
    }
  },
  "cells": [
    {
      "cell_type": "markdown",
      "metadata": {
        "id": "view-in-github",
        "colab_type": "text"
      },
      "source": [
        "<a href=\"https://colab.research.google.com/github/nisharajupal/basic-python/blob/main/5_Functions_.ipynb\" target=\"_parent\"><img src=\"https://colab.research.google.com/assets/colab-badge.svg\" alt=\"Open In Colab\"/></a>"
      ]
    },
    {
      "cell_type": "markdown",
      "metadata": {
        "id": "SBvr-p-H2ftd"
      },
      "source": [
        "# Functions"
      ]
    },
    {
      "cell_type": "code",
      "metadata": {
        "id": "3AxLgr6n2fth"
      },
      "source": [
        "# Block of code\n",
        "# Code reuseability\n",
        "# DRY - Don't Repeat Yourself"
      ],
      "execution_count": 1,
      "outputs": []
    },
    {
      "cell_type": "markdown",
      "metadata": {
        "id": "OStz9y7G2ftj"
      },
      "source": [
        "## Basics"
      ]
    },
    {
      "cell_type": "code",
      "metadata": {
        "id": "7SzKAxx92ftj"
      },
      "source": [
        "def SimpleFunction():\n",
        "    print(\"Inside SimpleFunction!!!\")\n",
        "    print(\"Exiting SimpleFunction\")"
      ],
      "execution_count": 2,
      "outputs": []
    },
    {
      "cell_type": "code",
      "metadata": {
        "colab": {
          "base_uri": "https://localhost:8080/"
        },
        "id": "vI6nnfxs2ftk",
        "outputId": "7701981a-5579-480c-d073-3b95ba2eeefa"
      },
      "source": [
        "SimpleFunction()"
      ],
      "execution_count": 3,
      "outputs": [
        {
          "output_type": "stream",
          "name": "stdout",
          "text": [
            "Inside SimpleFunction!!!\n",
            "Exiting SimpleFunction\n"
          ]
        }
      ]
    },
    {
      "cell_type": "code",
      "metadata": {
        "id": "jEXU-cUs2ftk"
      },
      "source": [
        ""
      ],
      "execution_count": 3,
      "outputs": []
    },
    {
      "cell_type": "code",
      "metadata": {
        "id": "QffTYkTG2ftl"
      },
      "source": [
        "def findMaximum(x, y):\n",
        "    if x > y:\n",
        "        return x\n",
        "    else:\n",
        "        return y"
      ],
      "execution_count": 4,
      "outputs": []
    },
    {
      "cell_type": "code",
      "metadata": {
        "colab": {
          "base_uri": "https://localhost:8080/"
        },
        "id": "Fe9eYEDq2ftn",
        "outputId": "ba6e816a-6b54-44ec-99b7-7439e197845a"
      },
      "source": [
        "findMaximum(3, 5)"
      ],
      "execution_count": 5,
      "outputs": [
        {
          "output_type": "execute_result",
          "data": {
            "text/plain": [
              "5"
            ]
          },
          "metadata": {},
          "execution_count": 5
        }
      ]
    },
    {
      "cell_type": "code",
      "metadata": {
        "id": "vlfLkgqO2fto"
      },
      "source": [
        "result = findMaximum(10, 3)"
      ],
      "execution_count": 6,
      "outputs": []
    },
    {
      "cell_type": "code",
      "metadata": {
        "colab": {
          "base_uri": "https://localhost:8080/"
        },
        "id": "m8v3APhw2fto",
        "outputId": "39dd6f72-d796-48c4-e67f-19af85232031"
      },
      "source": [
        "print(result)"
      ],
      "execution_count": 7,
      "outputs": [
        {
          "output_type": "stream",
          "name": "stdout",
          "text": [
            "10\n"
          ]
        }
      ]
    },
    {
      "cell_type": "code",
      "metadata": {
        "id": "GEuHMjCQ2ftp"
      },
      "source": [
        ""
      ],
      "execution_count": 7,
      "outputs": []
    },
    {
      "cell_type": "markdown",
      "metadata": {
        "id": "TU29WOt52ftp"
      },
      "source": [
        "## Factorial Of Number"
      ]
    },
    {
      "cell_type": "markdown",
      "metadata": {
        "id": "6sPPtKpV2ftq"
      },
      "source": [
        "### Iterative Approach"
      ]
    },
    {
      "cell_type": "code",
      "metadata": {
        "id": "1bO3-2NQ2ftq"
      },
      "source": [
        "# 5! = 5 * 4 * 3 * 2 * 1\n",
        "# 4! = 4 * 3 * 2 * 1\n",
        "# 1! = 1\n",
        "# 0! = 1"
      ],
      "execution_count": 8,
      "outputs": []
    },
    {
      "cell_type": "code",
      "metadata": {
        "id": "k3ADGfZe2ftr"
      },
      "source": [
        "def iterFactorial(num):\n",
        "    # result, iteration, sequence\n",
        "    result = 1\n",
        "    for item in range(1, num + 1):\n",
        "        result = result * item\n",
        "    return result"
      ],
      "execution_count": 9,
      "outputs": []
    },
    {
      "cell_type": "code",
      "metadata": {
        "colab": {
          "base_uri": "https://localhost:8080/"
        },
        "id": "B09-KQBl2ftr",
        "outputId": "ee3a3780-9fd6-4f54-f0fc-8759e2462cc4"
      },
      "source": [
        "print(iterFactorial(5))"
      ],
      "execution_count": 10,
      "outputs": [
        {
          "output_type": "stream",
          "name": "stdout",
          "text": [
            "120\n"
          ]
        }
      ]
    },
    {
      "cell_type": "code",
      "metadata": {
        "id": "QlP4VGLm2fts"
      },
      "source": [
        "# Take userinput and then call this function"
      ],
      "execution_count": 11,
      "outputs": []
    },
    {
      "cell_type": "code",
      "metadata": {
        "id": "BHj41fPH2fts"
      },
      "source": [
        "num = int(input(\"Enter any number: \"))\n",
        "print(\"Result: \", iterFactorial(num))"
      ],
      "execution_count": null,
      "outputs": []
    },
    {
      "cell_type": "code",
      "metadata": {
        "id": "xW3A89Hr2ftt"
      },
      "source": [
        ""
      ],
      "execution_count": null,
      "outputs": []
    },
    {
      "cell_type": "markdown",
      "metadata": {
        "id": "f7MQzrV12ftt"
      },
      "source": [
        "### Recursive Approach"
      ]
    },
    {
      "cell_type": "code",
      "metadata": {
        "id": "edLBcKye2ftu"
      },
      "source": [
        "# 5! = 5 * 4!\n",
        "# 4! = 4 * 3!\n",
        "# 3! = 3 * 2!\n",
        "# 2! = 2 * 1!\n",
        "# n! = n * (n-1)!"
      ],
      "execution_count": null,
      "outputs": []
    },
    {
      "cell_type": "code",
      "metadata": {
        "id": "PWZrkuP82ftv"
      },
      "source": [
        "def recurFactorial(num):\n",
        "    if num == 0 or num == 1:\n",
        "        return 1\n",
        "    else:\n",
        "        return num * recurFactorial(num - 1)\n",
        "    "
      ],
      "execution_count": null,
      "outputs": []
    },
    {
      "cell_type": "code",
      "metadata": {
        "id": "xxbp-ulc2ftw"
      },
      "source": [
        "num = int(input(\"Enter any number: \"))\n",
        "print(\"Result: \", recurFactorial(num))"
      ],
      "execution_count": null,
      "outputs": []
    },
    {
      "cell_type": "code",
      "metadata": {
        "id": "oZALtB432ftx"
      },
      "source": [
        ""
      ],
      "execution_count": null,
      "outputs": []
    },
    {
      "cell_type": "markdown",
      "metadata": {
        "id": "t8pwT9-m2ftx"
      },
      "source": [
        "## Default Arguments"
      ]
    },
    {
      "cell_type": "code",
      "metadata": {
        "id": "l1Jwze9I2fty"
      },
      "source": [
        "def DefaultArgumentFunction(x=123):\n",
        "    print(\"The value of x is {}\".format(x))"
      ],
      "execution_count": null,
      "outputs": []
    },
    {
      "cell_type": "code",
      "metadata": {
        "id": "2eqn3zy62fty"
      },
      "source": [
        "DefaultArgumentFunction()"
      ],
      "execution_count": null,
      "outputs": []
    },
    {
      "cell_type": "code",
      "metadata": {
        "id": "WVpKBtOO2ftz"
      },
      "source": [
        "DefaultArgumentFunction(456)"
      ],
      "execution_count": null,
      "outputs": []
    },
    {
      "cell_type": "code",
      "metadata": {
        "id": "oZlwZPH42ft0",
        "outputId": "2fe0b66c-aa46-46d8-e970-61bc4e30dcea"
      },
      "source": [
        "DefaultArgumentFunction(\"Hello World!!!\")"
      ],
      "execution_count": null,
      "outputs": [
        {
          "name": "stdout",
          "output_type": "stream",
          "text": [
            "The value of x is Hello World!!!\n"
          ]
        }
      ]
    },
    {
      "cell_type": "code",
      "metadata": {
        "id": "JRHNiKtJ2ft1"
      },
      "source": [
        ""
      ],
      "execution_count": null,
      "outputs": []
    },
    {
      "cell_type": "markdown",
      "metadata": {
        "id": "6glhDJo-2ft2"
      },
      "source": [
        "## Named Arguments"
      ]
    },
    {
      "cell_type": "code",
      "metadata": {
        "id": "QKwKNaKf2ft2"
      },
      "source": [
        "def namedArgumentFunction(a, b, c):\n",
        "    print(\"The values are a: {}, b: {}, c: {}\".format(a, b, c))"
      ],
      "execution_count": null,
      "outputs": []
    },
    {
      "cell_type": "code",
      "metadata": {
        "id": "-jpQhE0h2ft2",
        "outputId": "56c7dbb6-f5a7-4ea0-d918-17ba0dc195a9"
      },
      "source": [
        "namedArgumentFunction(100, 200, 300) # positional way of passing the values"
      ],
      "execution_count": null,
      "outputs": [
        {
          "name": "stdout",
          "output_type": "stream",
          "text": [
            "The values are a: 100, b: 200, c: 300\n"
          ]
        }
      ]
    },
    {
      "cell_type": "code",
      "metadata": {
        "id": "ixVCHpGY2ft3",
        "outputId": "7902c594-7b1a-49a9-ec69-abc6cde79da5"
      },
      "source": [
        "namedArgumentFunction(c=900, a=700, b=800) # Using named/keyword way of passing the values"
      ],
      "execution_count": null,
      "outputs": [
        {
          "name": "stdout",
          "output_type": "stream",
          "text": [
            "The values are a: 700, b: 800, c: 900\n"
          ]
        }
      ]
    },
    {
      "cell_type": "code",
      "metadata": {
        "id": "lsORTZkT2ft4"
      },
      "source": [
        "# When using both positional and named, always pass positional arguments before named arguments"
      ],
      "execution_count": null,
      "outputs": []
    },
    {
      "cell_type": "code",
      "metadata": {
        "id": "H83LPKhr2ft4",
        "outputId": "ac5ce5ac-2eaa-4a4f-f3e8-1174235239b1"
      },
      "source": [
        "namedArgumentFunction(a=500, 600, c=700) # error"
      ],
      "execution_count": null,
      "outputs": [
        {
          "ename": "SyntaxError",
          "evalue": "positional argument follows keyword argument (<ipython-input-31-a82e9539e47f>, line 1)",
          "output_type": "error",
          "traceback": [
            "\u001b[1;36m  File \u001b[1;32m\"<ipython-input-31-a82e9539e47f>\"\u001b[1;36m, line \u001b[1;32m1\u001b[0m\n\u001b[1;33m    namedArgumentFunction(a=500, 600, c=700) # error\u001b[0m\n\u001b[1;37m                                 ^\u001b[0m\n\u001b[1;31mSyntaxError\u001b[0m\u001b[1;31m:\u001b[0m positional argument follows keyword argument\n"
          ]
        }
      ]
    },
    {
      "cell_type": "code",
      "metadata": {
        "id": "HRMSlC0T2ft4",
        "outputId": "96ccbfcb-4934-4200-efd8-2ae3215291f9"
      },
      "source": [
        "namedArgumentFunction(33, c=55, b=44)"
      ],
      "execution_count": null,
      "outputs": [
        {
          "name": "stdout",
          "output_type": "stream",
          "text": [
            "The values are a: 33, b: 44, c: 55\n"
          ]
        }
      ]
    },
    {
      "cell_type": "code",
      "metadata": {
        "id": "jPVtSI7l2ft5",
        "outputId": "c11c6c97-1a6a-4924-9244-a6a934caba44"
      },
      "source": [
        "namedArgumentFunction(1000, c=2000, a=1500)"
      ],
      "execution_count": null,
      "outputs": [
        {
          "ename": "TypeError",
          "evalue": "namedArgumentFunction() got multiple values for argument 'a'",
          "output_type": "error",
          "traceback": [
            "\u001b[1;31m---------------------------------------------------------------------------\u001b[0m",
            "\u001b[1;31mTypeError\u001b[0m                                 Traceback (most recent call last)",
            "\u001b[1;32m<ipython-input-33-ea8384202fe9>\u001b[0m in \u001b[0;36m<module>\u001b[1;34m\u001b[0m\n\u001b[1;32m----> 1\u001b[1;33m \u001b[0mnamedArgumentFunction\u001b[0m\u001b[1;33m(\u001b[0m\u001b[1;36m1000\u001b[0m\u001b[1;33m,\u001b[0m \u001b[0mc\u001b[0m\u001b[1;33m=\u001b[0m\u001b[1;36m2000\u001b[0m\u001b[1;33m,\u001b[0m \u001b[0ma\u001b[0m\u001b[1;33m=\u001b[0m\u001b[1;36m1500\u001b[0m\u001b[1;33m)\u001b[0m\u001b[1;33m\u001b[0m\u001b[1;33m\u001b[0m\u001b[0m\n\u001b[0m",
            "\u001b[1;31mTypeError\u001b[0m: namedArgumentFunction() got multiple values for argument 'a'"
          ]
        }
      ]
    },
    {
      "cell_type": "code",
      "metadata": {
        "id": "Vy-Gyifc2ft5"
      },
      "source": [
        ""
      ],
      "execution_count": null,
      "outputs": []
    },
    {
      "cell_type": "markdown",
      "metadata": {
        "id": "2Xr7LRA92ft6"
      },
      "source": [
        "## Lambda Functions"
      ]
    },
    {
      "cell_type": "code",
      "metadata": {
        "id": "mz9uZge72ft6"
      },
      "source": [
        "def MySquare(num):\n",
        "    return num * num"
      ],
      "execution_count": null,
      "outputs": []
    },
    {
      "cell_type": "code",
      "metadata": {
        "id": "Bn0voQk72ft6",
        "outputId": "3cb06c0f-6dca-417a-ce66-f19825ae2b8e"
      },
      "source": [
        "print(MySquare(10))"
      ],
      "execution_count": null,
      "outputs": [
        {
          "name": "stdout",
          "output_type": "stream",
          "text": [
            "100\n"
          ]
        }
      ]
    },
    {
      "cell_type": "markdown",
      "metadata": {
        "id": "uCVsHwyu2ft6"
      },
      "source": [
        "* Lamda Functions\n",
        "* Functions with *NO* names\n",
        "* Anonymous functions\n",
        "* One-liner functions"
      ]
    },
    {
      "cell_type": "code",
      "metadata": {
        "id": "cLF1G0hT2ft7"
      },
      "source": [
        "f = lambda num: num * num"
      ],
      "execution_count": null,
      "outputs": []
    },
    {
      "cell_type": "code",
      "metadata": {
        "id": "LCJKKVco2ft7",
        "outputId": "152db3c7-10cb-4a49-85d0-e0da8c8e84f4"
      },
      "source": [
        "f(11)"
      ],
      "execution_count": null,
      "outputs": [
        {
          "data": {
            "text/plain": [
              "121"
            ]
          },
          "execution_count": 37,
          "metadata": {},
          "output_type": "execute_result"
        }
      ]
    },
    {
      "cell_type": "code",
      "metadata": {
        "id": "gDnwJKab2ft7"
      },
      "source": [
        "print(f(11))"
      ],
      "execution_count": null,
      "outputs": []
    },
    {
      "cell_type": "code",
      "metadata": {
        "id": "o5QjGR1t2ft8",
        "outputId": "e2acb547-a8ea-4bce-811d-d05e81382084"
      },
      "source": [
        "print((lambda num: num * num)(11))"
      ],
      "execution_count": null,
      "outputs": [
        {
          "name": "stdout",
          "output_type": "stream",
          "text": [
            "121\n"
          ]
        }
      ]
    },
    {
      "cell_type": "code",
      "metadata": {
        "id": "TszoBe9N2ft8"
      },
      "source": [
        ""
      ],
      "execution_count": null,
      "outputs": []
    }
  ]
}